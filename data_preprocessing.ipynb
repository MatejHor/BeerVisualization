{
 "cells": [
  {
   "cell_type": "code",
   "execution_count": 2,
   "metadata": {},
   "outputs": [],
   "source": [
    "import pandas as pd\n",
    "import numpy as np\n",
    "import matplotlib as plt\n",
    "import re"
   ]
  },
  {
   "cell_type": "markdown",
   "metadata": {},
   "source": [
    "## Preprocessing of data"
   ]
  },
  {
   "cell_type": "code",
   "execution_count": 8,
   "metadata": {},
   "outputs": [
    {
     "name": "stdout",
     "output_type": "stream",
     "text": [
      "<class 'pandas.core.frame.DataFrame'>\n",
      "Int64Index: 2410 entries, 0 to 2409\n",
      "Data columns (total 8 columns):\n",
      " #   Column             Non-Null Count  Dtype  \n",
      "---  ------             --------------  -----  \n",
      " 0   Alcohol By Volume  2348 non-null   float64\n",
      " 1   IBU                1405 non-null   float64\n",
      " 2   Name               2410 non-null   object \n",
      " 3   Style              2405 non-null   object \n",
      " 4   Brewer             2410 non-null   object \n",
      " 5   City               2410 non-null   object \n",
      " 6   State              2410 non-null   object \n",
      " 7   Country            2410 non-null   object \n",
      "dtypes: float64(2), object(6)\n",
      "memory usage: 169.5+ KB\n"
     ]
    }
   ],
   "source": [
    "new_beers = pd.read_csv('./data/beers.csv',  index_col=\"index\", names=['index','Alcohol By Volume','IBU','id','Name','Style','brewery_id','ounces'])\n",
    "new_brewies = pd.read_csv('./data/breweries.csv', index_col=\"brewery_id\", names=['brewery_id','Brewer','City','State','id'])\n",
    "new_beers = new_beers.merge(new_brewies, on=\"brewery_id\")\n",
    "new_beers = new_beers.drop(columns=['id_x', 'id_y', 'ounces', 'brewery_id'])\n",
    "new_beers.insert(7, 'Country', 'United States')\n",
    "new_beers.info(verbose=True)"
   ]
  },
  {
   "cell_type": "code",
   "execution_count": 9,
   "metadata": {},
   "outputs": [
    {
     "name": "stdout",
     "output_type": "stream",
     "text": [
      "<class 'pandas.core.frame.DataFrame'>\n",
      "RangeIndex: 5973 entries, 0 to 5972\n",
      "Data columns (total 22 columns):\n",
      " #   Column                          Non-Null Count  Dtype  \n",
      "---  ------                          --------------  -----  \n",
      " 0   Name                            5963 non-null   object \n",
      " 1   id                              5973 non-null   object \n",
      " 2   brewery_id                      5963 non-null   object \n",
      " 3   cat_id                          5950 non-null   object \n",
      " 4   style_id                        5949 non-null   object \n",
      " 5   Alcohol By Volume               5948 non-null   float64\n",
      " 6   International Bitterness Units  5948 non-null   float64\n",
      " 7   Standard Reference Method       5948 non-null   float64\n",
      " 8   Universal Product Code          5944 non-null   float64\n",
      " 9   filepath                        25 non-null     object \n",
      " 10  Description                     2046 non-null   object \n",
      " 11  add_user                        5930 non-null   object \n",
      " 12  last_mod                        5900 non-null   object \n",
      " 13  Style                           4466 non-null   object \n",
      " 14  Category                        4466 non-null   object \n",
      " 15  Brewer                          5948 non-null   object \n",
      " 16  Address                         5191 non-null   object \n",
      " 17  City                            5921 non-null   object \n",
      " 18  State                           5624 non-null   object \n",
      " 19  Country                         5948 non-null   object \n",
      " 20  Coordinates                     5746 non-null   object \n",
      " 21  Website                         2879 non-null   object \n",
      "dtypes: float64(4), object(18)\n",
      "memory usage: 1.0+ MB\n"
     ]
    }
   ],
   "source": [
    "beers = pd.read_csv('./data/open-beer-database.csv', sep=';')\n",
    "beers.info(verbose=True)"
   ]
  },
  {
   "cell_type": "code",
   "execution_count": 6,
   "metadata": {},
   "outputs": [
    {
     "data": {
      "text/html": [
       "<div>\n",
       "<style scoped>\n",
       "    .dataframe tbody tr th:only-of-type {\n",
       "        vertical-align: middle;\n",
       "    }\n",
       "\n",
       "    .dataframe tbody tr th {\n",
       "        vertical-align: top;\n",
       "    }\n",
       "\n",
       "    .dataframe thead th {\n",
       "        text-align: right;\n",
       "    }\n",
       "</style>\n",
       "<table border=\"1\" class=\"dataframe\">\n",
       "  <thead>\n",
       "    <tr style=\"text-align: right;\">\n",
       "      <th></th>\n",
       "      <th>Name</th>\n",
       "      <th>Alcohol By Volume</th>\n",
       "      <th>IBU</th>\n",
       "      <th>Style</th>\n",
       "      <th>Brewer</th>\n",
       "      <th>City</th>\n",
       "      <th>State</th>\n",
       "      <th>Country</th>\n",
       "    </tr>\n",
       "  </thead>\n",
       "  <tbody>\n",
       "    <tr>\n",
       "      <th>2</th>\n",
       "      <td>Possession Porter</td>\n",
       "      <td>5.6</td>\n",
       "      <td>0.0</td>\n",
       "      <td>Porter</td>\n",
       "      <td>Diamond Knot Brewery &amp; Alehouse</td>\n",
       "      <td>Mukilteo</td>\n",
       "      <td>Washington</td>\n",
       "      <td>United States</td>\n",
       "    </tr>\n",
       "    <tr>\n",
       "      <th>6</th>\n",
       "      <td>Free Bike Amber</td>\n",
       "      <td>4.5</td>\n",
       "      <td>0.0</td>\n",
       "      <td>American-Style Amber/Red Ale</td>\n",
       "      <td>Skagit River Brewing</td>\n",
       "      <td>Mount Vernon</td>\n",
       "      <td>Washington</td>\n",
       "      <td>United States</td>\n",
       "    </tr>\n",
       "    <tr>\n",
       "      <th>19</th>\n",
       "      <td>Potrero ESB</td>\n",
       "      <td>5.2</td>\n",
       "      <td>0.0</td>\n",
       "      <td>Special Bitter or Best Bitter</td>\n",
       "      <td>21st Amendment Brewery Cafe</td>\n",
       "      <td>San Francisco</td>\n",
       "      <td>California</td>\n",
       "      <td>United States</td>\n",
       "    </tr>\n",
       "    <tr>\n",
       "      <th>23</th>\n",
       "      <td>Twisted Kilt Scotch Ale</td>\n",
       "      <td>5.0</td>\n",
       "      <td>0.0</td>\n",
       "      <td>Scotch Ale</td>\n",
       "      <td>Thirsty Dog Brewing</td>\n",
       "      <td>Akron</td>\n",
       "      <td>Ohio</td>\n",
       "      <td>United States</td>\n",
       "    </tr>\n",
       "    <tr>\n",
       "      <th>25</th>\n",
       "      <td>Grolsch Amber Ale</td>\n",
       "      <td>5.3</td>\n",
       "      <td>0.0</td>\n",
       "      <td>German-Style Brown Ale/Altbier</td>\n",
       "      <td>Grolsche Bierbrouwerij</td>\n",
       "      <td>Enschede</td>\n",
       "      <td>Overijssel</td>\n",
       "      <td>Netherlands</td>\n",
       "    </tr>\n",
       "    <tr>\n",
       "      <th>...</th>\n",
       "      <td>...</td>\n",
       "      <td>...</td>\n",
       "      <td>...</td>\n",
       "      <td>...</td>\n",
       "      <td>...</td>\n",
       "      <td>...</td>\n",
       "      <td>...</td>\n",
       "      <td>...</td>\n",
       "    </tr>\n",
       "    <tr>\n",
       "      <th>5950</th>\n",
       "      <td>Richbrau India Pale Ale</td>\n",
       "      <td>6.2</td>\n",
       "      <td>0.0</td>\n",
       "      <td>American-Style India Pale Ale</td>\n",
       "      <td>Richbrau Brewing Company</td>\n",
       "      <td>Richmond</td>\n",
       "      <td>Virginia</td>\n",
       "      <td>United States</td>\n",
       "    </tr>\n",
       "    <tr>\n",
       "      <th>5951</th>\n",
       "      <td>Dubble Fantasy</td>\n",
       "      <td>5.0</td>\n",
       "      <td>0.0</td>\n",
       "      <td>Other Belgian-Style Ales</td>\n",
       "      <td>San Diego Brewing</td>\n",
       "      <td>San Diego</td>\n",
       "      <td>California</td>\n",
       "      <td>United States</td>\n",
       "    </tr>\n",
       "    <tr>\n",
       "      <th>5953</th>\n",
       "      <td>Dragon Stout</td>\n",
       "      <td>7.5</td>\n",
       "      <td>0.0</td>\n",
       "      <td>American-Style Stout</td>\n",
       "      <td>Desnoes &amp; Geddes Ltd</td>\n",
       "      <td>Kingston</td>\n",
       "      <td>NaN</td>\n",
       "      <td>Jamaica</td>\n",
       "    </tr>\n",
       "    <tr>\n",
       "      <th>5957</th>\n",
       "      <td>Double Eagle \\\"High-Test\\\" Scotch Ale</td>\n",
       "      <td>8.0</td>\n",
       "      <td>0.0</td>\n",
       "      <td>Scotch Ale</td>\n",
       "      <td>Pinehurst Village Brewery</td>\n",
       "      <td>Aberdeen</td>\n",
       "      <td>North Carolina</td>\n",
       "      <td>United States</td>\n",
       "    </tr>\n",
       "    <tr>\n",
       "      <th>5967</th>\n",
       "      <td>Big Eye IPA</td>\n",
       "      <td>6.0</td>\n",
       "      <td>0.0</td>\n",
       "      <td>American-Style India Pale Ale</td>\n",
       "      <td>Ballast Point Brewing</td>\n",
       "      <td>San Diego</td>\n",
       "      <td>California</td>\n",
       "      <td>United States</td>\n",
       "    </tr>\n",
       "  </tbody>\n",
       "</table>\n",
       "<p>2416 rows × 8 columns</p>\n",
       "</div>"
      ],
      "text/plain": [
       "                                       Name  Alcohol By Volume  IBU  \\\n",
       "2                         Possession Porter                5.6  0.0   \n",
       "6                           Free Bike Amber                4.5  0.0   \n",
       "19                              Potrero ESB                5.2  0.0   \n",
       "23                  Twisted Kilt Scotch Ale                5.0  0.0   \n",
       "25                        Grolsch Amber Ale                5.3  0.0   \n",
       "...                                     ...                ...  ...   \n",
       "5950                Richbrau India Pale Ale                6.2  0.0   \n",
       "5951                         Dubble Fantasy                5.0  0.0   \n",
       "5953                           Dragon Stout                7.5  0.0   \n",
       "5957  Double Eagle \\\"High-Test\\\" Scotch Ale                8.0  0.0   \n",
       "5967                            Big Eye IPA                6.0  0.0   \n",
       "\n",
       "                               Style                           Brewer  \\\n",
       "2                             Porter  Diamond Knot Brewery & Alehouse   \n",
       "6       American-Style Amber/Red Ale             Skagit River Brewing   \n",
       "19     Special Bitter or Best Bitter      21st Amendment Brewery Cafe   \n",
       "23                        Scotch Ale              Thirsty Dog Brewing   \n",
       "25    German-Style Brown Ale/Altbier           Grolsche Bierbrouwerij   \n",
       "...                              ...                              ...   \n",
       "5950   American-Style India Pale Ale         Richbrau Brewing Company   \n",
       "5951        Other Belgian-Style Ales                San Diego Brewing   \n",
       "5953            American-Style Stout             Desnoes & Geddes Ltd   \n",
       "5957                      Scotch Ale        Pinehurst Village Brewery   \n",
       "5967   American-Style India Pale Ale            Ballast Point Brewing   \n",
       "\n",
       "               City           State        Country  \n",
       "2          Mukilteo      Washington  United States  \n",
       "6      Mount Vernon      Washington  United States  \n",
       "19    San Francisco      California  United States  \n",
       "23            Akron            Ohio  United States  \n",
       "25         Enschede      Overijssel    Netherlands  \n",
       "...             ...             ...            ...  \n",
       "5950       Richmond        Virginia  United States  \n",
       "5951      San Diego      California  United States  \n",
       "5953       Kingston             NaN        Jamaica  \n",
       "5957       Aberdeen  North Carolina  United States  \n",
       "5967      San Diego      California  United States  \n",
       "\n",
       "[2416 rows x 8 columns]"
      ]
     },
     "execution_count": 6,
     "metadata": {},
     "output_type": "execute_result"
    }
   ],
   "source": [
    "beers = pd.read_csv('./data/open-beer-database.csv', sep=';')\n",
    "beers = beers.drop(columns=['Category', 'Description','id', 'brewery_id', 'cat_id', 'Universal Product Code', 'Address', 'Standard Reference Method', 'style_id', 'filepath', 'last_mod', 'Coordinates', 'Website', 'add_user'])\n",
    "beers = beers[beers['Alcohol By Volume'] != 0.0]\n",
    "beers[\"Alcohol By Volume\"] = beers[\"Alcohol By Volume\"].apply(lambda x: round(x, 4))\n",
    "beers = beers.rename(columns={\"International Bitterness Units\": \"IBU\"})\n",
    "beers = beers.dropna(subset=['Style'])\n",
    "beers"
   ]
  },
  {
   "cell_type": "code",
   "execution_count": 101,
   "metadata": {},
   "outputs": [
    {
     "data": {
      "text/html": [
       "<div>\n",
       "<style scoped>\n",
       "    .dataframe tbody tr th:only-of-type {\n",
       "        vertical-align: middle;\n",
       "    }\n",
       "\n",
       "    .dataframe tbody tr th {\n",
       "        vertical-align: top;\n",
       "    }\n",
       "\n",
       "    .dataframe thead th {\n",
       "        text-align: right;\n",
       "    }\n",
       "</style>\n",
       "<table border=\"1\" class=\"dataframe\">\n",
       "  <thead>\n",
       "    <tr style=\"text-align: right;\">\n",
       "      <th></th>\n",
       "      <th>Alcohol By Volume</th>\n",
       "      <th>IBU</th>\n",
       "      <th>Name</th>\n",
       "      <th>Style</th>\n",
       "      <th>Brewer</th>\n",
       "      <th>City</th>\n",
       "      <th>State</th>\n",
       "      <th>Country</th>\n",
       "    </tr>\n",
       "  </thead>\n",
       "  <tbody>\n",
       "    <tr>\n",
       "      <th>0</th>\n",
       "      <td>0.050</td>\n",
       "      <td>NaN</td>\n",
       "      <td>Pub Beer</td>\n",
       "      <td>American Pale Lager</td>\n",
       "      <td>10 Barrel Brewing Company</td>\n",
       "      <td>Bend</td>\n",
       "      <td>OR</td>\n",
       "      <td>United States</td>\n",
       "    </tr>\n",
       "    <tr>\n",
       "      <th>1</th>\n",
       "      <td>0.066</td>\n",
       "      <td>NaN</td>\n",
       "      <td>Devil's Cup</td>\n",
       "      <td>American Pale Ale (APA)</td>\n",
       "      <td>18th Street Brewery</td>\n",
       "      <td>Gary</td>\n",
       "      <td>IN</td>\n",
       "      <td>United States</td>\n",
       "    </tr>\n",
       "    <tr>\n",
       "      <th>2</th>\n",
       "      <td>0.071</td>\n",
       "      <td>NaN</td>\n",
       "      <td>Rise of the Phoenix</td>\n",
       "      <td>American IPA</td>\n",
       "      <td>18th Street Brewery</td>\n",
       "      <td>Gary</td>\n",
       "      <td>IN</td>\n",
       "      <td>United States</td>\n",
       "    </tr>\n",
       "    <tr>\n",
       "      <th>3</th>\n",
       "      <td>0.090</td>\n",
       "      <td>NaN</td>\n",
       "      <td>Sinister</td>\n",
       "      <td>American Double / Imperial IPA</td>\n",
       "      <td>18th Street Brewery</td>\n",
       "      <td>Gary</td>\n",
       "      <td>IN</td>\n",
       "      <td>United States</td>\n",
       "    </tr>\n",
       "    <tr>\n",
       "      <th>4</th>\n",
       "      <td>0.075</td>\n",
       "      <td>NaN</td>\n",
       "      <td>Sex and Candy</td>\n",
       "      <td>American IPA</td>\n",
       "      <td>18th Street Brewery</td>\n",
       "      <td>Gary</td>\n",
       "      <td>IN</td>\n",
       "      <td>United States</td>\n",
       "    </tr>\n",
       "    <tr>\n",
       "      <th>...</th>\n",
       "      <td>...</td>\n",
       "      <td>...</td>\n",
       "      <td>...</td>\n",
       "      <td>...</td>\n",
       "      <td>...</td>\n",
       "      <td>...</td>\n",
       "      <td>...</td>\n",
       "      <td>...</td>\n",
       "    </tr>\n",
       "    <tr>\n",
       "      <th>2405</th>\n",
       "      <td>0.067</td>\n",
       "      <td>45.0</td>\n",
       "      <td>Belgorado</td>\n",
       "      <td>Belgian IPA</td>\n",
       "      <td>Wynkoop Brewing Company</td>\n",
       "      <td>Denver</td>\n",
       "      <td>CO</td>\n",
       "      <td>United States</td>\n",
       "    </tr>\n",
       "    <tr>\n",
       "      <th>2406</th>\n",
       "      <td>0.052</td>\n",
       "      <td>NaN</td>\n",
       "      <td>Rail Yard Ale</td>\n",
       "      <td>American Amber / Red Ale</td>\n",
       "      <td>Wynkoop Brewing Company</td>\n",
       "      <td>Denver</td>\n",
       "      <td>CO</td>\n",
       "      <td>United States</td>\n",
       "    </tr>\n",
       "    <tr>\n",
       "      <th>2407</th>\n",
       "      <td>0.055</td>\n",
       "      <td>NaN</td>\n",
       "      <td>B3K Black Lager</td>\n",
       "      <td>Schwarzbier</td>\n",
       "      <td>Wynkoop Brewing Company</td>\n",
       "      <td>Denver</td>\n",
       "      <td>CO</td>\n",
       "      <td>United States</td>\n",
       "    </tr>\n",
       "    <tr>\n",
       "      <th>2408</th>\n",
       "      <td>0.055</td>\n",
       "      <td>40.0</td>\n",
       "      <td>Silverback Pale Ale</td>\n",
       "      <td>American Pale Ale (APA)</td>\n",
       "      <td>Wynkoop Brewing Company</td>\n",
       "      <td>Denver</td>\n",
       "      <td>CO</td>\n",
       "      <td>United States</td>\n",
       "    </tr>\n",
       "    <tr>\n",
       "      <th>2409</th>\n",
       "      <td>0.052</td>\n",
       "      <td>NaN</td>\n",
       "      <td>Rail Yard Ale (2009)</td>\n",
       "      <td>American Amber / Red Ale</td>\n",
       "      <td>Wynkoop Brewing Company</td>\n",
       "      <td>Denver</td>\n",
       "      <td>CO</td>\n",
       "      <td>United States</td>\n",
       "    </tr>\n",
       "  </tbody>\n",
       "</table>\n",
       "<p>2405 rows × 8 columns</p>\n",
       "</div>"
      ],
      "text/plain": [
       "      Alcohol By Volume   IBU                  Name  \\\n",
       "0                 0.050   NaN              Pub Beer   \n",
       "1                 0.066   NaN           Devil's Cup   \n",
       "2                 0.071   NaN   Rise of the Phoenix   \n",
       "3                 0.090   NaN              Sinister   \n",
       "4                 0.075   NaN         Sex and Candy   \n",
       "...                 ...   ...                   ...   \n",
       "2405              0.067  45.0             Belgorado   \n",
       "2406              0.052   NaN         Rail Yard Ale   \n",
       "2407              0.055   NaN       B3K Black Lager   \n",
       "2408              0.055  40.0   Silverback Pale Ale   \n",
       "2409              0.052   NaN  Rail Yard Ale (2009)   \n",
       "\n",
       "                               Style                     Brewer    City State  \\\n",
       "0                American Pale Lager  10 Barrel Brewing Company    Bend    OR   \n",
       "1            American Pale Ale (APA)        18th Street Brewery    Gary    IN   \n",
       "2                       American IPA        18th Street Brewery    Gary    IN   \n",
       "3     American Double / Imperial IPA        18th Street Brewery    Gary    IN   \n",
       "4                       American IPA        18th Street Brewery    Gary    IN   \n",
       "...                              ...                        ...     ...   ...   \n",
       "2405                     Belgian IPA    Wynkoop Brewing Company  Denver    CO   \n",
       "2406        American Amber / Red Ale    Wynkoop Brewing Company  Denver    CO   \n",
       "2407                     Schwarzbier    Wynkoop Brewing Company  Denver    CO   \n",
       "2408         American Pale Ale (APA)    Wynkoop Brewing Company  Denver    CO   \n",
       "2409        American Amber / Red Ale    Wynkoop Brewing Company  Denver    CO   \n",
       "\n",
       "            Country  \n",
       "0     United States  \n",
       "1     United States  \n",
       "2     United States  \n",
       "3     United States  \n",
       "4     United States  \n",
       "...             ...  \n",
       "2405  United States  \n",
       "2406  United States  \n",
       "2407  United States  \n",
       "2408  United States  \n",
       "2409  United States  \n",
       "\n",
       "[2405 rows x 8 columns]"
      ]
     },
     "execution_count": 101,
     "metadata": {},
     "output_type": "execute_result"
    }
   ],
   "source": [
    "new_beers = pd.read_csv('./data/beers.csv',  index_col=\"index\", names=['index','Alcohol By Volume','IBU','id','Name','Style','brewery_id','ounces'])\n",
    "new_brewies = pd.read_csv('./data/breweries.csv', index_col=\"brewery_id\", names=['brewery_id','Brewer','City','State','id'])\n",
    "new_beers = new_beers.merge(new_brewies, on=\"brewery_id\")\n",
    "new_beers = new_beers.drop(columns=['id_x', 'id_y', 'ounces', 'brewery_id'])\n",
    "new_beers.insert(7, 'Country', 'United States')\n",
    "new_beers[\"Alcohol By Volume\"] = new_beers[\"Alcohol By Volume\"].apply(lambda x: round(x, 4))\n",
    "new_beers = new_beers.dropna(subset=['Style'])\n",
    "new_beers"
   ]
  },
  {
   "cell_type": "code",
   "execution_count": 103,
   "metadata": {},
   "outputs": [],
   "source": [
    "states = {\n",
    "\"AL\" : \"Alabama\",\n",
    "\"AK\" : \"Alaska\",\n",
    "\"AZ\" : \"Arizona\",\n",
    "\"AR\" : \"Arkansas\",\n",
    "\"CA\" : \"California\",\n",
    "\"CO\" : \"Colorado\",\n",
    "\"CT\" : \"Connecticut\",\n",
    "\"DE\" : \"Delaware\",\n",
    "\"FL\" : \"Florida\",\n",
    "\"GA\" : \"Georgia\",\n",
    "\"HI\" : \"Hawaii\",\n",
    "\"ID\" : \"Idaho\",\n",
    "\"IL\" : \"Illinois\",\n",
    "\"IN\" : \"Indiana\",\n",
    "\"IA\" : \"Iowa\",\n",
    "\"KS\" : \"Kansas\",\n",
    "\"KY\" : \"Kentucky\",\n",
    "\"LA\" : \"Louisiana\",\n",
    "\"ME\" : \"Maine\",\n",
    "\"MD\" : \"Maryland\",\n",
    "\"MA\" : \"Massachusetts\",\n",
    "\"MI\" : \"Michigan\",\n",
    "\"MN\" : \"Minnesota\",\n",
    "\"MS\" : \"Mississippi\",\n",
    "\"MO\" : \"Missouri\",\n",
    "\"MT\" : \"Montana\",\n",
    "\"NE\" : \"Nebraska\",\n",
    "\"NV\" : \"Nevada\",\n",
    "\"NH\" : \"New Hampshire\",\n",
    "\"NJ\" : \"New Jersey\",\n",
    "\"NM\" : \"New Mexico\",\n",
    "\"NY\" : \"New York\",\n",
    "\"NC\" : \"North Carolina\",\n",
    "\"ND\" : \"North Dakota\",\n",
    "\"OH\" : \"Ohio\",\n",
    "\"OK\" : \"Oklahoma\",\n",
    "\"OR\" : \"Oregon\",\n",
    "\"PA\" : \"Pennsylvania\",\n",
    "\"RI\" : \"Rhode Island\",\n",
    "\"SC\" : \"South Carolina\",\n",
    "\"SD\" : \"South Dakota\",\n",
    "\"TN\" : \"Tennessee\",\n",
    "\"TX\" : \"Texas\",\n",
    "\"UT\" : \"Utah\",\n",
    "\"VT\" : \"Vermont\",\n",
    "\"VA\" : \"Virginia\",\n",
    "\"WA\" : \"Washington\",\n",
    "\"WV\" : \"West Virginia\",\n",
    "\"WI\" : \"Wisconsin\",\n",
    "\"WY\" : \"Wyoming\",\n",
    "\"DC\" : \"Washington DC\"\n",
    "}"
   ]
  },
  {
   "cell_type": "code",
   "execution_count": 104,
   "metadata": {},
   "outputs": [],
   "source": [
    "new_beers[\"State\"] = new_beers[\"State\"].apply(lambda x: states[x.strip()])"
   ]
  },
  {
   "cell_type": "code",
   "execution_count": 105,
   "metadata": {},
   "outputs": [],
   "source": [
    "concate_beers = beers.append(new_beers)\n",
    "# concate_beers = beers"
   ]
  },
  {
   "cell_type": "code",
   "execution_count": 106,
   "metadata": {},
   "outputs": [
    {
     "data": {
      "text/html": [
       "<div>\n",
       "<style scoped>\n",
       "    .dataframe tbody tr th:only-of-type {\n",
       "        vertical-align: middle;\n",
       "    }\n",
       "\n",
       "    .dataframe tbody tr th {\n",
       "        vertical-align: top;\n",
       "    }\n",
       "\n",
       "    .dataframe thead th {\n",
       "        text-align: right;\n",
       "    }\n",
       "</style>\n",
       "<table border=\"1\" class=\"dataframe\">\n",
       "  <thead>\n",
       "    <tr style=\"text-align: right;\">\n",
       "      <th></th>\n",
       "      <th>Name</th>\n",
       "      <th>Alcohol By Volume</th>\n",
       "      <th>IBU</th>\n",
       "      <th>Style</th>\n",
       "      <th>Brewer</th>\n",
       "      <th>City</th>\n",
       "      <th>State</th>\n",
       "      <th>Country</th>\n",
       "    </tr>\n",
       "  </thead>\n",
       "  <tbody>\n",
       "    <tr>\n",
       "      <th>2</th>\n",
       "      <td>Possession Porter</td>\n",
       "      <td>5.600</td>\n",
       "      <td>0.0</td>\n",
       "      <td>Porter</td>\n",
       "      <td>Diamond Knot Brewery &amp; Alehouse</td>\n",
       "      <td>Mukilteo</td>\n",
       "      <td>Washington</td>\n",
       "      <td>United States</td>\n",
       "    </tr>\n",
       "    <tr>\n",
       "      <th>6</th>\n",
       "      <td>Free Bike Amber</td>\n",
       "      <td>4.500</td>\n",
       "      <td>0.0</td>\n",
       "      <td>American-Style Amber/Red Ale</td>\n",
       "      <td>Skagit River Brewing</td>\n",
       "      <td>Mount Vernon</td>\n",
       "      <td>Washington</td>\n",
       "      <td>United States</td>\n",
       "    </tr>\n",
       "    <tr>\n",
       "      <th>19</th>\n",
       "      <td>Potrero ESB</td>\n",
       "      <td>5.200</td>\n",
       "      <td>0.0</td>\n",
       "      <td>Special Bitter or Best Bitter</td>\n",
       "      <td>21st Amendment Brewery Cafe</td>\n",
       "      <td>San Francisco</td>\n",
       "      <td>California</td>\n",
       "      <td>United States</td>\n",
       "    </tr>\n",
       "    <tr>\n",
       "      <th>23</th>\n",
       "      <td>Twisted Kilt Scotch Ale</td>\n",
       "      <td>5.000</td>\n",
       "      <td>0.0</td>\n",
       "      <td>Scotch Ale</td>\n",
       "      <td>Thirsty Dog Brewing</td>\n",
       "      <td>Akron</td>\n",
       "      <td>Ohio</td>\n",
       "      <td>United States</td>\n",
       "    </tr>\n",
       "    <tr>\n",
       "      <th>25</th>\n",
       "      <td>Grolsch Amber Ale</td>\n",
       "      <td>5.300</td>\n",
       "      <td>0.0</td>\n",
       "      <td>German-Style Brown Ale/Altbier</td>\n",
       "      <td>Grolsche Bierbrouwerij</td>\n",
       "      <td>Enschede</td>\n",
       "      <td>Overijssel</td>\n",
       "      <td>Netherlands</td>\n",
       "    </tr>\n",
       "    <tr>\n",
       "      <th>...</th>\n",
       "      <td>...</td>\n",
       "      <td>...</td>\n",
       "      <td>...</td>\n",
       "      <td>...</td>\n",
       "      <td>...</td>\n",
       "      <td>...</td>\n",
       "      <td>...</td>\n",
       "      <td>...</td>\n",
       "    </tr>\n",
       "    <tr>\n",
       "      <th>2405</th>\n",
       "      <td>Belgorado</td>\n",
       "      <td>0.067</td>\n",
       "      <td>45.0</td>\n",
       "      <td>Belgian IPA</td>\n",
       "      <td>Wynkoop Brewing Company</td>\n",
       "      <td>Denver</td>\n",
       "      <td>Colorado</td>\n",
       "      <td>United States</td>\n",
       "    </tr>\n",
       "    <tr>\n",
       "      <th>2406</th>\n",
       "      <td>Rail Yard Ale</td>\n",
       "      <td>0.052</td>\n",
       "      <td>NaN</td>\n",
       "      <td>American Amber / Red Ale</td>\n",
       "      <td>Wynkoop Brewing Company</td>\n",
       "      <td>Denver</td>\n",
       "      <td>Colorado</td>\n",
       "      <td>United States</td>\n",
       "    </tr>\n",
       "    <tr>\n",
       "      <th>2407</th>\n",
       "      <td>B3K Black Lager</td>\n",
       "      <td>0.055</td>\n",
       "      <td>NaN</td>\n",
       "      <td>Schwarzbier</td>\n",
       "      <td>Wynkoop Brewing Company</td>\n",
       "      <td>Denver</td>\n",
       "      <td>Colorado</td>\n",
       "      <td>United States</td>\n",
       "    </tr>\n",
       "    <tr>\n",
       "      <th>2408</th>\n",
       "      <td>Silverback Pale Ale</td>\n",
       "      <td>0.055</td>\n",
       "      <td>40.0</td>\n",
       "      <td>American Pale Ale (APA)</td>\n",
       "      <td>Wynkoop Brewing Company</td>\n",
       "      <td>Denver</td>\n",
       "      <td>Colorado</td>\n",
       "      <td>United States</td>\n",
       "    </tr>\n",
       "    <tr>\n",
       "      <th>2409</th>\n",
       "      <td>Rail Yard Ale (2009)</td>\n",
       "      <td>0.052</td>\n",
       "      <td>NaN</td>\n",
       "      <td>American Amber / Red Ale</td>\n",
       "      <td>Wynkoop Brewing Company</td>\n",
       "      <td>Denver</td>\n",
       "      <td>Colorado</td>\n",
       "      <td>United States</td>\n",
       "    </tr>\n",
       "  </tbody>\n",
       "</table>\n",
       "<p>4821 rows × 8 columns</p>\n",
       "</div>"
      ],
      "text/plain": [
       "                         Name  Alcohol By Volume   IBU  \\\n",
       "2           Possession Porter              5.600   0.0   \n",
       "6             Free Bike Amber              4.500   0.0   \n",
       "19                Potrero ESB              5.200   0.0   \n",
       "23    Twisted Kilt Scotch Ale              5.000   0.0   \n",
       "25          Grolsch Amber Ale              5.300   0.0   \n",
       "...                       ...                ...   ...   \n",
       "2405                Belgorado              0.067  45.0   \n",
       "2406            Rail Yard Ale              0.052   NaN   \n",
       "2407          B3K Black Lager              0.055   NaN   \n",
       "2408      Silverback Pale Ale              0.055  40.0   \n",
       "2409     Rail Yard Ale (2009)              0.052   NaN   \n",
       "\n",
       "                               Style                           Brewer  \\\n",
       "2                             Porter  Diamond Knot Brewery & Alehouse   \n",
       "6       American-Style Amber/Red Ale             Skagit River Brewing   \n",
       "19     Special Bitter or Best Bitter      21st Amendment Brewery Cafe   \n",
       "23                        Scotch Ale              Thirsty Dog Brewing   \n",
       "25    German-Style Brown Ale/Altbier           Grolsche Bierbrouwerij   \n",
       "...                              ...                              ...   \n",
       "2405                     Belgian IPA          Wynkoop Brewing Company   \n",
       "2406        American Amber / Red Ale          Wynkoop Brewing Company   \n",
       "2407                     Schwarzbier          Wynkoop Brewing Company   \n",
       "2408         American Pale Ale (APA)          Wynkoop Brewing Company   \n",
       "2409        American Amber / Red Ale          Wynkoop Brewing Company   \n",
       "\n",
       "               City       State        Country  \n",
       "2          Mukilteo  Washington  United States  \n",
       "6      Mount Vernon  Washington  United States  \n",
       "19    San Francisco  California  United States  \n",
       "23            Akron        Ohio  United States  \n",
       "25         Enschede  Overijssel    Netherlands  \n",
       "...             ...         ...            ...  \n",
       "2405         Denver    Colorado  United States  \n",
       "2406         Denver    Colorado  United States  \n",
       "2407         Denver    Colorado  United States  \n",
       "2408         Denver    Colorado  United States  \n",
       "2409         Denver    Colorado  United States  \n",
       "\n",
       "[4821 rows x 8 columns]"
      ]
     },
     "execution_count": 106,
     "metadata": {},
     "output_type": "execute_result"
    }
   ],
   "source": [
    "concate_beers.to_csv('preprocessed_data.csv')\n",
    "concate_beers"
   ]
  },
  {
   "cell_type": "code",
   "execution_count": 107,
   "metadata": {},
   "outputs": [],
   "source": [
    "concate_beers = pd.read_csv('preprocessed_data.csv', index_col=0)"
   ]
  },
  {
   "cell_type": "code",
   "execution_count": 108,
   "metadata": {},
   "outputs": [
    {
     "data": {
      "text/html": [
       "<div>\n",
       "<style scoped>\n",
       "    .dataframe tbody tr th:only-of-type {\n",
       "        vertical-align: middle;\n",
       "    }\n",
       "\n",
       "    .dataframe tbody tr th {\n",
       "        vertical-align: top;\n",
       "    }\n",
       "\n",
       "    .dataframe thead th {\n",
       "        text-align: right;\n",
       "    }\n",
       "</style>\n",
       "<table border=\"1\" class=\"dataframe\">\n",
       "  <thead>\n",
       "    <tr style=\"text-align: right;\">\n",
       "      <th></th>\n",
       "      <th>Name</th>\n",
       "      <th>Alcohol By Volume</th>\n",
       "      <th>IBU</th>\n",
       "      <th>Style</th>\n",
       "      <th>Brewer</th>\n",
       "      <th>City</th>\n",
       "      <th>State</th>\n",
       "      <th>Country</th>\n",
       "    </tr>\n",
       "  </thead>\n",
       "  <tbody>\n",
       "    <tr>\n",
       "      <th>2</th>\n",
       "      <td>Possession Porter</td>\n",
       "      <td>5.600</td>\n",
       "      <td>0.0</td>\n",
       "      <td>Porter</td>\n",
       "      <td>Diamond Knot Brewery &amp; Alehouse</td>\n",
       "      <td>Mukilteo</td>\n",
       "      <td>Washington</td>\n",
       "      <td>United States</td>\n",
       "    </tr>\n",
       "    <tr>\n",
       "      <th>6</th>\n",
       "      <td>Free Bike Amber</td>\n",
       "      <td>4.500</td>\n",
       "      <td>0.0</td>\n",
       "      <td>American-Style Amber/Red Ale</td>\n",
       "      <td>Skagit River Brewing</td>\n",
       "      <td>Mount Vernon</td>\n",
       "      <td>Washington</td>\n",
       "      <td>United States</td>\n",
       "    </tr>\n",
       "    <tr>\n",
       "      <th>19</th>\n",
       "      <td>Potrero ESB</td>\n",
       "      <td>5.200</td>\n",
       "      <td>0.0</td>\n",
       "      <td>Special Bitter or Best Bitter</td>\n",
       "      <td>21st Amendment Brewery Cafe</td>\n",
       "      <td>San Francisco</td>\n",
       "      <td>California</td>\n",
       "      <td>United States</td>\n",
       "    </tr>\n",
       "    <tr>\n",
       "      <th>23</th>\n",
       "      <td>Twisted Kilt Scotch Ale</td>\n",
       "      <td>5.000</td>\n",
       "      <td>0.0</td>\n",
       "      <td>Scotch Ale</td>\n",
       "      <td>Thirsty Dog Brewing</td>\n",
       "      <td>Akron</td>\n",
       "      <td>Ohio</td>\n",
       "      <td>United States</td>\n",
       "    </tr>\n",
       "    <tr>\n",
       "      <th>25</th>\n",
       "      <td>Grolsch Amber Ale</td>\n",
       "      <td>5.300</td>\n",
       "      <td>0.0</td>\n",
       "      <td>German-Style Brown Ale/Altbier</td>\n",
       "      <td>Grolsche Bierbrouwerij</td>\n",
       "      <td>Enschede</td>\n",
       "      <td>Overijssel</td>\n",
       "      <td>Netherlands</td>\n",
       "    </tr>\n",
       "    <tr>\n",
       "      <th>...</th>\n",
       "      <td>...</td>\n",
       "      <td>...</td>\n",
       "      <td>...</td>\n",
       "      <td>...</td>\n",
       "      <td>...</td>\n",
       "      <td>...</td>\n",
       "      <td>...</td>\n",
       "      <td>...</td>\n",
       "    </tr>\n",
       "    <tr>\n",
       "      <th>2405</th>\n",
       "      <td>Belgorado</td>\n",
       "      <td>0.067</td>\n",
       "      <td>45.0</td>\n",
       "      <td>Belgian IPA</td>\n",
       "      <td>Wynkoop Brewing Company</td>\n",
       "      <td>Denver</td>\n",
       "      <td>Colorado</td>\n",
       "      <td>United States</td>\n",
       "    </tr>\n",
       "    <tr>\n",
       "      <th>2406</th>\n",
       "      <td>Rail Yard Ale</td>\n",
       "      <td>0.052</td>\n",
       "      <td>NaN</td>\n",
       "      <td>American Amber / Red Ale</td>\n",
       "      <td>Wynkoop Brewing Company</td>\n",
       "      <td>Denver</td>\n",
       "      <td>Colorado</td>\n",
       "      <td>United States</td>\n",
       "    </tr>\n",
       "    <tr>\n",
       "      <th>2407</th>\n",
       "      <td>B3K Black Lager</td>\n",
       "      <td>0.055</td>\n",
       "      <td>NaN</td>\n",
       "      <td>Schwarzbier</td>\n",
       "      <td>Wynkoop Brewing Company</td>\n",
       "      <td>Denver</td>\n",
       "      <td>Colorado</td>\n",
       "      <td>United States</td>\n",
       "    </tr>\n",
       "    <tr>\n",
       "      <th>2408</th>\n",
       "      <td>Silverback Pale Ale</td>\n",
       "      <td>0.055</td>\n",
       "      <td>40.0</td>\n",
       "      <td>American Pale Ale (APA)</td>\n",
       "      <td>Wynkoop Brewing Company</td>\n",
       "      <td>Denver</td>\n",
       "      <td>Colorado</td>\n",
       "      <td>United States</td>\n",
       "    </tr>\n",
       "    <tr>\n",
       "      <th>2409</th>\n",
       "      <td>Rail Yard Ale (2009)</td>\n",
       "      <td>0.052</td>\n",
       "      <td>NaN</td>\n",
       "      <td>American Amber / Red Ale</td>\n",
       "      <td>Wynkoop Brewing Company</td>\n",
       "      <td>Denver</td>\n",
       "      <td>Colorado</td>\n",
       "      <td>United States</td>\n",
       "    </tr>\n",
       "  </tbody>\n",
       "</table>\n",
       "<p>4821 rows × 8 columns</p>\n",
       "</div>"
      ],
      "text/plain": [
       "                         Name  Alcohol By Volume   IBU  \\\n",
       "2           Possession Porter              5.600   0.0   \n",
       "6             Free Bike Amber              4.500   0.0   \n",
       "19                Potrero ESB              5.200   0.0   \n",
       "23    Twisted Kilt Scotch Ale              5.000   0.0   \n",
       "25          Grolsch Amber Ale              5.300   0.0   \n",
       "...                       ...                ...   ...   \n",
       "2405                Belgorado              0.067  45.0   \n",
       "2406            Rail Yard Ale              0.052   NaN   \n",
       "2407          B3K Black Lager              0.055   NaN   \n",
       "2408      Silverback Pale Ale              0.055  40.0   \n",
       "2409     Rail Yard Ale (2009)              0.052   NaN   \n",
       "\n",
       "                               Style                           Brewer  \\\n",
       "2                             Porter  Diamond Knot Brewery & Alehouse   \n",
       "6       American-Style Amber/Red Ale             Skagit River Brewing   \n",
       "19     Special Bitter or Best Bitter      21st Amendment Brewery Cafe   \n",
       "23                        Scotch Ale              Thirsty Dog Brewing   \n",
       "25    German-Style Brown Ale/Altbier           Grolsche Bierbrouwerij   \n",
       "...                              ...                              ...   \n",
       "2405                     Belgian IPA          Wynkoop Brewing Company   \n",
       "2406        American Amber / Red Ale          Wynkoop Brewing Company   \n",
       "2407                     Schwarzbier          Wynkoop Brewing Company   \n",
       "2408         American Pale Ale (APA)          Wynkoop Brewing Company   \n",
       "2409        American Amber / Red Ale          Wynkoop Brewing Company   \n",
       "\n",
       "               City       State        Country  \n",
       "2          Mukilteo  Washington  United States  \n",
       "6      Mount Vernon  Washington  United States  \n",
       "19    San Francisco  California  United States  \n",
       "23            Akron        Ohio  United States  \n",
       "25         Enschede  Overijssel    Netherlands  \n",
       "...             ...         ...            ...  \n",
       "2405         Denver    Colorado  United States  \n",
       "2406         Denver    Colorado  United States  \n",
       "2407         Denver    Colorado  United States  \n",
       "2408         Denver    Colorado  United States  \n",
       "2409         Denver    Colorado  United States  \n",
       "\n",
       "[4821 rows x 8 columns]"
      ]
     },
     "execution_count": 108,
     "metadata": {},
     "output_type": "execute_result"
    }
   ],
   "source": [
    "concate_beers"
   ]
  },
  {
   "cell_type": "code",
   "execution_count": 109,
   "metadata": {},
   "outputs": [
    {
     "data": {
      "text/html": [
       "<div>\n",
       "<style scoped>\n",
       "    .dataframe tbody tr th:only-of-type {\n",
       "        vertical-align: middle;\n",
       "    }\n",
       "\n",
       "    .dataframe tbody tr th {\n",
       "        vertical-align: top;\n",
       "    }\n",
       "\n",
       "    .dataframe thead th {\n",
       "        text-align: right;\n",
       "    }\n",
       "</style>\n",
       "<table border=\"1\" class=\"dataframe\">\n",
       "  <thead>\n",
       "    <tr style=\"text-align: right;\">\n",
       "      <th></th>\n",
       "      <th>Name</th>\n",
       "      <th>Alcohol By Volume</th>\n",
       "      <th>IBU</th>\n",
       "      <th>Style</th>\n",
       "      <th>Brewer</th>\n",
       "      <th>City</th>\n",
       "      <th>State</th>\n",
       "      <th>Country</th>\n",
       "    </tr>\n",
       "  </thead>\n",
       "  <tbody>\n",
       "    <tr>\n",
       "      <th>41</th>\n",
       "      <td>Rod Bender Red</td>\n",
       "      <td>0.059</td>\n",
       "      <td>NaN</td>\n",
       "      <td>American Amber / Red Ale</td>\n",
       "      <td>3 Daughters Brewing</td>\n",
       "      <td>St Petersburg</td>\n",
       "      <td>Florida</td>\n",
       "      <td>United States</td>\n",
       "    </tr>\n",
       "    <tr>\n",
       "      <th>45</th>\n",
       "      <td>Reprise Centennial Red</td>\n",
       "      <td>0.060</td>\n",
       "      <td>NaN</td>\n",
       "      <td>American Amber / Red Ale</td>\n",
       "      <td>4 Hands Brewing Company</td>\n",
       "      <td>Saint Louis</td>\n",
       "      <td>Missouri</td>\n",
       "      <td>United States</td>\n",
       "    </tr>\n",
       "    <tr>\n",
       "      <th>108</th>\n",
       "      <td>Boont Amber Ale</td>\n",
       "      <td>0.058</td>\n",
       "      <td>15.0</td>\n",
       "      <td>American Amber / Red Ale</td>\n",
       "      <td>Anderson Valley Brewing Company</td>\n",
       "      <td>Boonville</td>\n",
       "      <td>California</td>\n",
       "      <td>United States</td>\n",
       "    </tr>\n",
       "    <tr>\n",
       "      <th>111</th>\n",
       "      <td>Boont Amber Ale (2010)</td>\n",
       "      <td>0.058</td>\n",
       "      <td>15.0</td>\n",
       "      <td>American Amber / Red Ale</td>\n",
       "      <td>Anderson Valley Brewing Company</td>\n",
       "      <td>Boonville</td>\n",
       "      <td>California</td>\n",
       "      <td>United States</td>\n",
       "    </tr>\n",
       "    <tr>\n",
       "      <th>116</th>\n",
       "      <td>Boont Amber Ale (2011)</td>\n",
       "      <td>0.058</td>\n",
       "      <td>15.0</td>\n",
       "      <td>American Amber / Red Ale</td>\n",
       "      <td>Anderson Valley Brewing Company</td>\n",
       "      <td>Boonville</td>\n",
       "      <td>California</td>\n",
       "      <td>United States</td>\n",
       "    </tr>\n",
       "    <tr>\n",
       "      <th>...</th>\n",
       "      <td>...</td>\n",
       "      <td>...</td>\n",
       "      <td>...</td>\n",
       "      <td>...</td>\n",
       "      <td>...</td>\n",
       "      <td>...</td>\n",
       "      <td>...</td>\n",
       "      <td>...</td>\n",
       "    </tr>\n",
       "    <tr>\n",
       "      <th>2329</th>\n",
       "      <td>T-6 Red Ale (2004)</td>\n",
       "      <td>0.047</td>\n",
       "      <td>NaN</td>\n",
       "      <td>American Amber / Red Ale</td>\n",
       "      <td>Warbird Brewing Company</td>\n",
       "      <td>Fort Wayne</td>\n",
       "      <td>Indiana</td>\n",
       "      <td>United States</td>\n",
       "    </tr>\n",
       "    <tr>\n",
       "      <th>2336</th>\n",
       "      <td>West Sixth Amber Ale</td>\n",
       "      <td>0.055</td>\n",
       "      <td>NaN</td>\n",
       "      <td>American Amber / Red Ale</td>\n",
       "      <td>West Sixth Brewing</td>\n",
       "      <td>Lexington</td>\n",
       "      <td>Kentucky</td>\n",
       "      <td>United States</td>\n",
       "    </tr>\n",
       "    <tr>\n",
       "      <th>2351</th>\n",
       "      <td>Drop Kick Ale</td>\n",
       "      <td>0.052</td>\n",
       "      <td>NaN</td>\n",
       "      <td>American Amber / Red Ale</td>\n",
       "      <td>Weston Brewing Company</td>\n",
       "      <td>Weston</td>\n",
       "      <td>Missouri</td>\n",
       "      <td>United States</td>\n",
       "    </tr>\n",
       "    <tr>\n",
       "      <th>2406</th>\n",
       "      <td>Rail Yard Ale</td>\n",
       "      <td>0.052</td>\n",
       "      <td>NaN</td>\n",
       "      <td>American Amber / Red Ale</td>\n",
       "      <td>Wynkoop Brewing Company</td>\n",
       "      <td>Denver</td>\n",
       "      <td>Colorado</td>\n",
       "      <td>United States</td>\n",
       "    </tr>\n",
       "    <tr>\n",
       "      <th>2409</th>\n",
       "      <td>Rail Yard Ale (2009)</td>\n",
       "      <td>0.052</td>\n",
       "      <td>NaN</td>\n",
       "      <td>American Amber / Red Ale</td>\n",
       "      <td>Wynkoop Brewing Company</td>\n",
       "      <td>Denver</td>\n",
       "      <td>Colorado</td>\n",
       "      <td>United States</td>\n",
       "    </tr>\n",
       "  </tbody>\n",
       "</table>\n",
       "<p>133 rows × 8 columns</p>\n",
       "</div>"
      ],
      "text/plain": [
       "                        Name  Alcohol By Volume   IBU  \\\n",
       "41            Rod Bender Red              0.059   NaN   \n",
       "45    Reprise Centennial Red              0.060   NaN   \n",
       "108          Boont Amber Ale              0.058  15.0   \n",
       "111   Boont Amber Ale (2010)              0.058  15.0   \n",
       "116   Boont Amber Ale (2011)              0.058  15.0   \n",
       "...                      ...                ...   ...   \n",
       "2329      T-6 Red Ale (2004)              0.047   NaN   \n",
       "2336    West Sixth Amber Ale              0.055   NaN   \n",
       "2351           Drop Kick Ale              0.052   NaN   \n",
       "2406           Rail Yard Ale              0.052   NaN   \n",
       "2409    Rail Yard Ale (2009)              0.052   NaN   \n",
       "\n",
       "                         Style                           Brewer  \\\n",
       "41    American Amber / Red Ale              3 Daughters Brewing   \n",
       "45    American Amber / Red Ale          4 Hands Brewing Company   \n",
       "108   American Amber / Red Ale  Anderson Valley Brewing Company   \n",
       "111   American Amber / Red Ale  Anderson Valley Brewing Company   \n",
       "116   American Amber / Red Ale  Anderson Valley Brewing Company   \n",
       "...                        ...                              ...   \n",
       "2329  American Amber / Red Ale          Warbird Brewing Company   \n",
       "2336  American Amber / Red Ale               West Sixth Brewing   \n",
       "2351  American Amber / Red Ale           Weston Brewing Company   \n",
       "2406  American Amber / Red Ale          Wynkoop Brewing Company   \n",
       "2409  American Amber / Red Ale          Wynkoop Brewing Company   \n",
       "\n",
       "               City       State        Country  \n",
       "41    St Petersburg     Florida  United States  \n",
       "45      Saint Louis    Missouri  United States  \n",
       "108       Boonville  California  United States  \n",
       "111       Boonville  California  United States  \n",
       "116       Boonville  California  United States  \n",
       "...             ...         ...            ...  \n",
       "2329     Fort Wayne     Indiana  United States  \n",
       "2336      Lexington    Kentucky  United States  \n",
       "2351         Weston    Missouri  United States  \n",
       "2406         Denver    Colorado  United States  \n",
       "2409         Denver    Colorado  United States  \n",
       "\n",
       "[133 rows x 8 columns]"
      ]
     },
     "execution_count": 109,
     "metadata": {},
     "output_type": "execute_result"
    }
   ],
   "source": [
    "concate_beers[concate_beers['Style'] == 'American Amber / Red Ale']"
   ]
  },
  {
   "cell_type": "code",
   "execution_count": 110,
   "metadata": {},
   "outputs": [
    {
     "name": "stdout",
     "output_type": "stream",
     "text": [
      "<class 'pandas.core.frame.DataFrame'>\n",
      "Int64Index: 4821 entries, 2 to 2409\n",
      "Data columns (total 8 columns):\n",
      " #   Column             Non-Null Count  Dtype  \n",
      "---  ------             --------------  -----  \n",
      " 0   Name               4821 non-null   object \n",
      " 1   Alcohol By Volume  4762 non-null   float64\n",
      " 2   IBU                3819 non-null   float64\n",
      " 3   Style              4821 non-null   object \n",
      " 4   Brewer             4821 non-null   object \n",
      " 5   City               4802 non-null   object \n",
      " 6   State              4661 non-null   object \n",
      " 7   Country            4821 non-null   object \n",
      "dtypes: float64(2), object(6)\n",
      "memory usage: 339.0+ KB\n"
     ]
    }
   ],
   "source": [
    "concate_beers.info(verbose=True)"
   ]
  },
  {
   "cell_type": "code",
   "execution_count": 111,
   "metadata": {},
   "outputs": [],
   "source": [
    "values = {'Alcohol By Volume': 0.0, 'City': '', 'State': '', 'International Bitterness Units': 0.0}\n",
    "concate_beers = concate_beers.fillna(value=values)"
   ]
  },
  {
   "cell_type": "code",
   "execution_count": 112,
   "metadata": {},
   "outputs": [
    {
     "data": {
      "text/plain": [
       "Index(['Abbey Single Ale', 'Altbier', 'American Adjunct Lager',\n",
       "       'American Amber / Red Ale', 'American Amber / Red Lager',\n",
       "       'American Barleywine', 'American Black Ale', 'American Blonde Ale',\n",
       "       'American Brown Ale', 'American Dark Wheat Ale',\n",
       "       ...\n",
       "       'Special Bitter or Best Bitter', 'Specialty Beer', 'Strong Ale',\n",
       "       'Sweet Stout', 'Traditional German-Style Bock', 'Tripel',\n",
       "       'Vienna Lager', 'Wheat Ale', 'Winter Warmer', 'Witbier'],\n",
       "      dtype='object', name='Style', length=159)"
      ]
     },
     "execution_count": 112,
     "metadata": {},
     "output_type": "execute_result"
    }
   ],
   "source": [
    "concate_beers.groupby('Style').size().index"
   ]
  },
  {
   "cell_type": "code",
   "execution_count": 114,
   "metadata": {
    "scrolled": true
   },
   "outputs": [
    {
     "name": "stdout",
     "output_type": "stream",
     "text": [
      "-----------------------------------ALE------------------------\n",
      "Ale 2741 61\n",
      "Index(['Abbey Single Ale', 'American Amber / Red Ale', 'American Black Ale',\n",
      "       'American Blonde Ale', 'American Brown Ale', 'American Dark Wheat Ale',\n",
      "       'American Double / Imperial IPA', 'American IPA',\n",
      "       'American Pale Ale (APA)', 'American Pale Wheat Ale',\n",
      "       'American Rye Ale or Lager', 'American Strong Ale',\n",
      "       'American White IPA', 'American Wild Ale',\n",
      "       'American-Style Amber/Red Ale', 'American-Style Barley Wine Ale',\n",
      "       'American-Style Brown Ale', 'American-Style Cream Ale or Lager',\n",
      "       'American-Style India Black Ale', 'American-Style India Pale Ale',\n",
      "       'American-Style Pale Ale', 'American-Style Strong Pale Ale',\n",
      "       'Belgian Dark Ale', 'Belgian IPA', 'Belgian Pale Ale',\n",
      "       'Belgian Strong Dark Ale', 'Belgian Strong Pale Ale',\n",
      "       'Belgian-Style Dark Strong Ale', 'Belgian-Style Pale Ale',\n",
      "       'Belgian-Style Pale Strong Ale', 'Classic English-Style Pale Ale',\n",
      "       'Cream Ale', 'Dark American-Belgo-Style Ale', 'English Brown Ale',\n",
      "       'English Dark Mild Ale', 'English India Pale Ale (IPA)',\n",
      "       'English Pale Ale', 'English Pale Mild Ale', 'English Strong Ale',\n",
      "       'English-Style Dark Mild Ale', 'English-Style India Pale Ale',\n",
      "       'English-Style Pale Mild Ale', 'Flanders Red Ale',\n",
      "       'German-Style Brown Ale/Altbier', 'Golden or Blonde Ale',\n",
      "       'Imperial or Double India Pale Ale', 'Imperial or Double Red Ale',\n",
      "       'Irish Red Ale', 'Irish-Style Red Ale', 'Kellerbier - Ale',\n",
      "       'Light American Wheat Ale or Lager', 'Old Ale',\n",
      "       'Other Belgian-Style Ales', 'Pumpkin Ale', 'Saison / Farmhouse Ale',\n",
      "       'Scotch Ale', 'Scotch Ale / Wee Heavy', 'Scottish Ale',\n",
      "       'Scottish-Style Light Ale', 'Strong Ale', 'Wheat Ale'],\n",
      "      dtype='object', name='Style') \n",
      "\n",
      "APA 771 5\n",
      "Index(['American Pale Ale (APA)', 'American Pale Wheat Ale',\n",
      "       'American-Style India Pale Ale', 'American-Style Pale Ale',\n",
      "       'American-Style Strong Pale Ale'],\n",
      "      dtype='object', name='Style') \n",
      "\n",
      "MildAle 18 4\n",
      "Index(['English Dark Mild Ale', 'English Pale Mild Ale',\n",
      "       'English-Style Dark Mild Ale', 'English-Style Pale Mild Ale'],\n",
      "      dtype='object', name='Style') \n",
      "\n",
      "IPA 880 8\n",
      "Index(['American Double / Imperial IPA', 'American IPA', 'American White IPA',\n",
      "       'American-Style India Pale Ale', 'Belgian IPA',\n",
      "       'English India Pale Ale (IPA)', 'English-Style India Pale Ale',\n",
      "       'Imperial or Double India Pale Ale'],\n",
      "      dtype='object', name='Style') \n",
      "\n",
      "OtherAle 1276 45\n",
      "Index(['Abbey Single Ale', 'American Amber / Red Ale', 'American Black Ale',\n",
      "       'American Blonde Ale', 'American Brown Ale', 'American Dark Wheat Ale',\n",
      "       'American Rye Ale or Lager', 'American Strong Ale', 'American Wild Ale',\n",
      "       'American-Style Amber/Red Ale', 'American-Style Barley Wine Ale',\n",
      "       'American-Style Brown Ale', 'American-Style Cream Ale or Lager',\n",
      "       'American-Style India Black Ale', 'Belgian Dark Ale',\n",
      "       'Belgian Pale Ale', 'Belgian Strong Dark Ale',\n",
      "       'Belgian Strong Pale Ale', 'Belgian-Style Dark Strong Ale',\n",
      "       'Belgian-Style Pale Ale', 'Belgian-Style Pale Strong Ale',\n",
      "       'Classic English-Style Pale Ale', 'Cream Ale',\n",
      "       'Dark American-Belgo-Style Ale', 'English Brown Ale',\n",
      "       'English Pale Ale', 'English Strong Ale', 'Flanders Red Ale',\n",
      "       'German-Style Brown Ale/Altbier', 'Golden or Blonde Ale',\n",
      "       'Imperial or Double Red Ale', 'Irish Red Ale', 'Irish-Style Red Ale',\n",
      "       'Kellerbier - Ale', 'Light American Wheat Ale or Lager', 'Old Ale',\n",
      "       'Other Belgian-Style Ales', 'Pumpkin Ale', 'Saison / Farmhouse Ale',\n",
      "       'Scotch Ale', 'Scotch Ale / Wee Heavy', 'Scottish Ale',\n",
      "       'Scottish-Style Light Ale', 'Strong Ale', 'Wheat Ale'],\n",
      "      dtype='object', name='Style') \n",
      "\n",
      "-----------------------------------Porter------------------------\n",
      "Porter 189 4\n",
      "Index(['American Porter', 'Baltic Porter', 'Baltic-Style Porter', 'Porter'], dtype='object', name='Style') \n",
      "\n",
      "-----------------------------------Stout------------------------\n",
      "Stout 333 13\n",
      "Index(['American Double / Imperial Stout', 'American Stout',\n",
      "       'American-Style Imperial Stout', 'American-Style Stout',\n",
      "       'Classic Irish-Style Dry Stout', 'English Stout',\n",
      "       'Foreign (Export)-Style Stout', 'Foreign / Export Stout',\n",
      "       'Irish Dry Stout', 'Milk / Sweet Stout', 'Oatmeal Stout',\n",
      "       'Russian Imperial Stout', 'Sweet Stout'],\n",
      "      dtype='object', name='Style') \n",
      "\n",
      "-----------------------------------Lager------------------------\n",
      "Lager 477 17\n",
      "Index(['American Adjunct Lager', 'American Amber / Red Lager',\n",
      "       'American India Pale Lager', 'American Pale Lager',\n",
      "       'American Rye Ale or Lager', 'American-Style Cream Ale or Lager',\n",
      "       'American-Style Dark Lager', 'American-Style Lager',\n",
      "       'American-Style Light Lager', 'Dortmunder / Export Lager',\n",
      "       'Euro Dark Lager', 'Euro Pale Lager',\n",
      "       'Light American Wheat Ale or Lager', 'Light Lager',\n",
      "       'Munich Dunkel Lager', 'Munich Helles Lager', 'Vienna Lager'],\n",
      "      dtype='object', name='Style') \n",
      "\n",
      "-----------------------------------Others------------------------\n",
      "Others 156 11\n",
      "Index(['California Common / Steam Beer', 'Chile Beer',\n",
      "       'Fruit / Vegetable Beer', 'Fruit Beer', 'Herb and Spice Beer',\n",
      "       'Herbed / Spiced Beer', 'Low Alcohol Beer', 'Pumpkin Beer', 'Rye Beer',\n",
      "       'Smoked Beer', 'Specialty Beer'],\n",
      "      dtype='object', name='Style') \n",
      "\n",
      "Shandy 3 1\n",
      "Index(['Shandy'], dtype='object', name='Style') \n",
      "\n"
     ]
    },
    {
     "name": "stderr",
     "output_type": "stream",
     "text": [
      "C:\\Users\\matho\\anaconda3\\lib\\site-packages\\pandas\\core\\strings.py:1952: UserWarning:\n",
      "\n",
      "This pattern has match groups. To actually get the groups, use str.extract.\n",
      "\n"
     ]
    }
   ],
   "source": [
    "print('-----------------------------------ALE------------------------')\n",
    "\n",
    "Ale = concate_beers[concate_beers.Style.str.contains('.*(Ale|IPA|APA).*', regex= True, na=False)]\n",
    "print(\"Ale\", Ale.shape[0], len(Ale.groupby('Style').size().index))\n",
    "print(Ale.groupby('Style').size().index, '\\n')\n",
    "\n",
    "APA = concate_beers[concate_beers.Style.str.contains('.*(American.*Pale.*Ale|APA).*', regex= True, na=False)]\n",
    "print(\"APA\", APA.shape[0], len(APA.groupby('Style').size().index)) \n",
    "print(APA.groupby('Style').size().index, '\\n')\n",
    "\n",
    "MildAle = concate_beers[concate_beers.Style.str.contains('.*Mild.*Ale.*', regex= True, na=False)]\n",
    "print(\"MildAle\", MildAle.shape[0], len(MildAle.groupby('Style').size().index)) \n",
    "print(MildAle.groupby('Style').size().index, '\\n')\n",
    "\n",
    "IPA = concate_beers[concate_beers.Style.str.contains('.*(India.*Pale.*Ale|IPA).*', regex= True, na=False)] \n",
    "print(\"IPA\", IPA.shape[0], len(IPA.groupby('Style').size().index))\n",
    "print(IPA.groupby('Style').size().index, '\\n')\n",
    "\n",
    "OtherAle = concate_beers[concate_beers.Style.str.contains('^(?!.*(American.*Pale.*Ale|APA|IPA|India.*Pale.*Ale|Mild.*Ale).*).*Ale.*', regex= True, na=False)]\n",
    "print(\"OtherAle\", OtherAle.shape[0], len(OtherAle.groupby('Style').size().index))\n",
    "print(OtherAle.groupby('Style').size().index, '\\n')\n",
    "\n",
    "print('-----------------------------------Porter------------------------')\n",
    "\n",
    "Porter = concate_beers[concate_beers.Style.str.contains('.*Porter.*', regex= True, na=False)]\n",
    "print(\"Porter\", Porter.shape[0], len(Porter.groupby('Style').size().index))\n",
    "print(Porter.groupby('Style').size().index, '\\n')\n",
    "\n",
    "print('-----------------------------------Stout------------------------')\n",
    "\n",
    "Stout = concate_beers[concate_beers.Style.str.contains('.*Stout.*', regex= True, na=False)]\n",
    "print(\"Stout\", Stout.shape[0], len(Stout.groupby('Style').size().index))\n",
    "print(Stout.groupby('Style').size().index, '\\n')\n",
    "\n",
    "print('-----------------------------------Lager------------------------')\n",
    "\n",
    "Lager = concate_beers[concate_beers.Style.str.contains('.*Lager.*', regex= True, na=False)]\n",
    "print(\"Lager\", Lager.shape[0], len(Lager.groupby('Style').size().index))\n",
    "print(Lager.groupby('Style').size().index, '\\n')\n",
    "\n",
    "print('-----------------------------------Others------------------------')\n",
    "\n",
    "Others = concate_beers[concate_beers.Style.str.contains('.*Beer.*', regex= True, na=False)]\n",
    "print(\"Others\", Others.shape[0], len(Others.groupby('Style').size().index))\n",
    "print(Others.groupby('Style').size().index, '\\n')\n",
    "\n",
    "Shandy = concate_beers[concate_beers.Style.str.contains('.*Shandy.*', regex= True, na=False)]\n",
    "print(\"Shandy\", Shandy.shape[0], len(Shandy.groupby('Style').size().index))\n",
    "print(Shandy.groupby('Style').size().index, '\\n')"
   ]
  },
  {
   "cell_type": "code",
   "execution_count": 116,
   "metadata": {},
   "outputs": [],
   "source": [
    "conditions = [\n",
    "    concate_beers.Style.str.contains('.*Porter.*', regex= True, na=False),\n",
    "    concate_beers.Style.str.contains('.*Stout.*', regex= True, na=False),\n",
    "    concate_beers.Style.str.contains('.*Lager.*', regex= True, na=False),\n",
    "    concate_beers.Style.str.contains('.*(American.*Pale.*Ale|APA).*', regex= True, na=False),\n",
    "    concate_beers.Style.str.contains('.*Mild.*Ale.*', regex= True, na=False),\n",
    "    concate_beers.Style.str.contains('.*(India.*Pale.*Ale|IPA).*', regex= True, na=False),\n",
    "    concate_beers.Style.str.contains('^(?!.*(American.*Pale.*Ale|APA|IPA|India.*Pale.*Ale|Mild.*Ale).*).*Ale.*', regex= True, na=False),\n",
    "    concate_beers.Style.str.contains('.*(Beer|Special).*', regex= True, na=False)\n",
    "]\n",
    "\n",
    "outputs = [\n",
    "    'Porter',\n",
    "    'Stout',\n",
    "    'Lager',\n",
    "    'APA',\n",
    "    'Mild Ale',\n",
    "    'IPA',\n",
    "    'Other Ale',\n",
    "    'Special Beer'\n",
    "]\n",
    "\n",
    "res = np.select(conditions, outputs, 'Others')"
   ]
  },
  {
   "cell_type": "code",
   "execution_count": 117,
   "metadata": {},
   "outputs": [
    {
     "data": {
      "text/plain": [
       "Type\n",
       "APA              771\n",
       "IPA              676\n",
       "Lager            477\n",
       "Mild Ale          18\n",
       "Other Ale       1191\n",
       "Others           948\n",
       "Porter           189\n",
       "Special Beer     218\n",
       "Stout            333\n",
       "dtype: int64"
      ]
     },
     "execution_count": 117,
     "metadata": {},
     "output_type": "execute_result"
    }
   ],
   "source": [
    "concate_beers['Type'] = pd.Series(res)\n",
    "concate_beers.groupby('Type').size()"
   ]
  },
  {
   "cell_type": "code",
   "execution_count": 118,
   "metadata": {},
   "outputs": [],
   "source": [
    "concate_beers['Ale'] = np.where(concate_beers.Style.str.contains('.*(Ale|IPA|APA).*', regex= True, na=False), 'Ale', 'No Ale')"
   ]
  },
  {
   "cell_type": "code",
   "execution_count": 120,
   "metadata": {},
   "outputs": [
    {
     "data": {
      "text/html": [
       "<div>\n",
       "<style scoped>\n",
       "    .dataframe tbody tr th:only-of-type {\n",
       "        vertical-align: middle;\n",
       "    }\n",
       "\n",
       "    .dataframe tbody tr th {\n",
       "        vertical-align: top;\n",
       "    }\n",
       "\n",
       "    .dataframe thead th {\n",
       "        text-align: right;\n",
       "    }\n",
       "</style>\n",
       "<table border=\"1\" class=\"dataframe\">\n",
       "  <thead>\n",
       "    <tr style=\"text-align: right;\">\n",
       "      <th></th>\n",
       "      <th>index</th>\n",
       "      <th>Name</th>\n",
       "      <th>Alcohol By Volume</th>\n",
       "      <th>IBU</th>\n",
       "      <th>Style</th>\n",
       "      <th>Brewer</th>\n",
       "      <th>City</th>\n",
       "      <th>State</th>\n",
       "      <th>Country</th>\n",
       "      <th>Type</th>\n",
       "      <th>Ale</th>\n",
       "    </tr>\n",
       "  </thead>\n",
       "  <tbody>\n",
       "    <tr>\n",
       "      <th>0</th>\n",
       "      <td>2</td>\n",
       "      <td>Possession Porter</td>\n",
       "      <td>5.600</td>\n",
       "      <td>0.0</td>\n",
       "      <td>Porter</td>\n",
       "      <td>Diamond Knot Brewery &amp; Alehouse</td>\n",
       "      <td>Mukilteo</td>\n",
       "      <td>Washington</td>\n",
       "      <td>United States</td>\n",
       "      <td>Porter</td>\n",
       "      <td>No Ale</td>\n",
       "    </tr>\n",
       "    <tr>\n",
       "      <th>1</th>\n",
       "      <td>6</td>\n",
       "      <td>Free Bike Amber</td>\n",
       "      <td>4.500</td>\n",
       "      <td>0.0</td>\n",
       "      <td>American-Style Amber/Red Ale</td>\n",
       "      <td>Skagit River Brewing</td>\n",
       "      <td>Mount Vernon</td>\n",
       "      <td>Washington</td>\n",
       "      <td>United States</td>\n",
       "      <td>Other Ale</td>\n",
       "      <td>Ale</td>\n",
       "    </tr>\n",
       "    <tr>\n",
       "      <th>2</th>\n",
       "      <td>19</td>\n",
       "      <td>Potrero ESB</td>\n",
       "      <td>5.200</td>\n",
       "      <td>0.0</td>\n",
       "      <td>Special Bitter or Best Bitter</td>\n",
       "      <td>21st Amendment Brewery Cafe</td>\n",
       "      <td>San Francisco</td>\n",
       "      <td>California</td>\n",
       "      <td>United States</td>\n",
       "      <td>Special Beer</td>\n",
       "      <td>No Ale</td>\n",
       "    </tr>\n",
       "    <tr>\n",
       "      <th>3</th>\n",
       "      <td>23</td>\n",
       "      <td>Twisted Kilt Scotch Ale</td>\n",
       "      <td>5.000</td>\n",
       "      <td>0.0</td>\n",
       "      <td>Scotch Ale</td>\n",
       "      <td>Thirsty Dog Brewing</td>\n",
       "      <td>Akron</td>\n",
       "      <td>Ohio</td>\n",
       "      <td>United States</td>\n",
       "      <td>Other Ale</td>\n",
       "      <td>Ale</td>\n",
       "    </tr>\n",
       "    <tr>\n",
       "      <th>4</th>\n",
       "      <td>25</td>\n",
       "      <td>Grolsch Amber Ale</td>\n",
       "      <td>5.300</td>\n",
       "      <td>0.0</td>\n",
       "      <td>German-Style Brown Ale/Altbier</td>\n",
       "      <td>Grolsche Bierbrouwerij</td>\n",
       "      <td>Enschede</td>\n",
       "      <td>Overijssel</td>\n",
       "      <td>Netherlands</td>\n",
       "      <td>Other Ale</td>\n",
       "      <td>Ale</td>\n",
       "    </tr>\n",
       "    <tr>\n",
       "      <th>...</th>\n",
       "      <td>...</td>\n",
       "      <td>...</td>\n",
       "      <td>...</td>\n",
       "      <td>...</td>\n",
       "      <td>...</td>\n",
       "      <td>...</td>\n",
       "      <td>...</td>\n",
       "      <td>...</td>\n",
       "      <td>...</td>\n",
       "      <td>...</td>\n",
       "      <td>...</td>\n",
       "    </tr>\n",
       "    <tr>\n",
       "      <th>4816</th>\n",
       "      <td>2405</td>\n",
       "      <td>Belgorado</td>\n",
       "      <td>0.067</td>\n",
       "      <td>45.0</td>\n",
       "      <td>Belgian IPA</td>\n",
       "      <td>Wynkoop Brewing Company</td>\n",
       "      <td>Denver</td>\n",
       "      <td>Colorado</td>\n",
       "      <td>United States</td>\n",
       "      <td>IPA</td>\n",
       "      <td>Ale</td>\n",
       "    </tr>\n",
       "    <tr>\n",
       "      <th>4817</th>\n",
       "      <td>2406</td>\n",
       "      <td>Rail Yard Ale</td>\n",
       "      <td>0.052</td>\n",
       "      <td>NaN</td>\n",
       "      <td>American Amber / Red Ale</td>\n",
       "      <td>Wynkoop Brewing Company</td>\n",
       "      <td>Denver</td>\n",
       "      <td>Colorado</td>\n",
       "      <td>United States</td>\n",
       "      <td>Other Ale</td>\n",
       "      <td>Ale</td>\n",
       "    </tr>\n",
       "    <tr>\n",
       "      <th>4818</th>\n",
       "      <td>2407</td>\n",
       "      <td>B3K Black Lager</td>\n",
       "      <td>0.055</td>\n",
       "      <td>NaN</td>\n",
       "      <td>Schwarzbier</td>\n",
       "      <td>Wynkoop Brewing Company</td>\n",
       "      <td>Denver</td>\n",
       "      <td>Colorado</td>\n",
       "      <td>United States</td>\n",
       "      <td>Others</td>\n",
       "      <td>No Ale</td>\n",
       "    </tr>\n",
       "    <tr>\n",
       "      <th>4819</th>\n",
       "      <td>2408</td>\n",
       "      <td>Silverback Pale Ale</td>\n",
       "      <td>0.055</td>\n",
       "      <td>40.0</td>\n",
       "      <td>American Pale Ale (APA)</td>\n",
       "      <td>Wynkoop Brewing Company</td>\n",
       "      <td>Denver</td>\n",
       "      <td>Colorado</td>\n",
       "      <td>United States</td>\n",
       "      <td>APA</td>\n",
       "      <td>Ale</td>\n",
       "    </tr>\n",
       "    <tr>\n",
       "      <th>4820</th>\n",
       "      <td>2409</td>\n",
       "      <td>Rail Yard Ale (2009)</td>\n",
       "      <td>0.052</td>\n",
       "      <td>NaN</td>\n",
       "      <td>American Amber / Red Ale</td>\n",
       "      <td>Wynkoop Brewing Company</td>\n",
       "      <td>Denver</td>\n",
       "      <td>Colorado</td>\n",
       "      <td>United States</td>\n",
       "      <td>Other Ale</td>\n",
       "      <td>Ale</td>\n",
       "    </tr>\n",
       "  </tbody>\n",
       "</table>\n",
       "<p>4821 rows × 11 columns</p>\n",
       "</div>"
      ],
      "text/plain": [
       "      index                     Name  Alcohol By Volume   IBU  \\\n",
       "0         2        Possession Porter              5.600   0.0   \n",
       "1         6          Free Bike Amber              4.500   0.0   \n",
       "2        19              Potrero ESB              5.200   0.0   \n",
       "3        23  Twisted Kilt Scotch Ale              5.000   0.0   \n",
       "4        25        Grolsch Amber Ale              5.300   0.0   \n",
       "...     ...                      ...                ...   ...   \n",
       "4816   2405                Belgorado              0.067  45.0   \n",
       "4817   2406            Rail Yard Ale              0.052   NaN   \n",
       "4818   2407          B3K Black Lager              0.055   NaN   \n",
       "4819   2408      Silverback Pale Ale              0.055  40.0   \n",
       "4820   2409     Rail Yard Ale (2009)              0.052   NaN   \n",
       "\n",
       "                               Style                           Brewer  \\\n",
       "0                             Porter  Diamond Knot Brewery & Alehouse   \n",
       "1       American-Style Amber/Red Ale             Skagit River Brewing   \n",
       "2      Special Bitter or Best Bitter      21st Amendment Brewery Cafe   \n",
       "3                         Scotch Ale              Thirsty Dog Brewing   \n",
       "4     German-Style Brown Ale/Altbier           Grolsche Bierbrouwerij   \n",
       "...                              ...                              ...   \n",
       "4816                     Belgian IPA          Wynkoop Brewing Company   \n",
       "4817        American Amber / Red Ale          Wynkoop Brewing Company   \n",
       "4818                     Schwarzbier          Wynkoop Brewing Company   \n",
       "4819         American Pale Ale (APA)          Wynkoop Brewing Company   \n",
       "4820        American Amber / Red Ale          Wynkoop Brewing Company   \n",
       "\n",
       "               City       State        Country          Type     Ale  \n",
       "0          Mukilteo  Washington  United States        Porter  No Ale  \n",
       "1      Mount Vernon  Washington  United States     Other Ale     Ale  \n",
       "2     San Francisco  California  United States  Special Beer  No Ale  \n",
       "3             Akron        Ohio  United States     Other Ale     Ale  \n",
       "4          Enschede  Overijssel    Netherlands     Other Ale     Ale  \n",
       "...             ...         ...            ...           ...     ...  \n",
       "4816         Denver    Colorado  United States           IPA     Ale  \n",
       "4817         Denver    Colorado  United States     Other Ale     Ale  \n",
       "4818         Denver    Colorado  United States        Others  No Ale  \n",
       "4819         Denver    Colorado  United States           APA     Ale  \n",
       "4820         Denver    Colorado  United States     Other Ale     Ale  \n",
       "\n",
       "[4821 rows x 11 columns]"
      ]
     },
     "execution_count": 120,
     "metadata": {},
     "output_type": "execute_result"
    }
   ],
   "source": [
    "concate_beers.to_csv('preprocessed_data.csv')\n",
    "concate_beers"
   ]
  },
  {
   "cell_type": "code",
   "execution_count": 121,
   "metadata": {},
   "outputs": [
    {
     "name": "stdout",
     "output_type": "stream",
     "text": [
      "Ale\n",
      "Ale       2741\n",
      "No Ale    2080\n",
      "dtype: int64 \n",
      "\n",
      "Style\n",
      "Abbey Single Ale                2\n",
      "Altbier                        13\n",
      "American Adjunct Lager         18\n",
      "American Amber / Red Ale      133\n",
      "American Amber / Red Lager     29\n",
      "                             ... \n",
      "Tripel                         11\n",
      "Vienna Lager                   20\n",
      "Wheat Ale                       1\n",
      "Winter Warmer                  36\n",
      "Witbier                        51\n",
      "Length: 159, dtype: int64 \n",
      "\n",
      "Type\n",
      "APA              771\n",
      "IPA              676\n",
      "Lager            477\n",
      "Mild Ale          18\n",
      "Other Ale       1191\n",
      "Others           948\n",
      "Porter           189\n",
      "Special Beer     218\n",
      "Stout            333\n",
      "dtype: int64 \n",
      "\n"
     ]
    }
   ],
   "source": [
    "print(concate_beers.groupby(['Ale']).size(),'\\n')\n",
    "print(concate_beers.groupby(['Style']).size(),'\\n')\n",
    "print(concate_beers.groupby(['Type']).size(),'\\n')"
   ]
  },
  {
   "cell_type": "code",
   "execution_count": 128,
   "metadata": {},
   "outputs": [
    {
     "data": {
      "text/plain": [
       "Country\n",
       "United States    49\n",
       "dtype: int64"
      ]
     },
     "execution_count": 128,
     "metadata": {},
     "output_type": "execute_result"
    }
   ],
   "source": [
    "concate_beers.groupby('Style').size()['Fruit / Vegetable Beer']\n",
    "# \n",
    "concate_beers[concate_beers['Style'] == 'Fruit / Vegetable Beer'].groupby('Country').size()"
   ]
  },
  {
   "cell_type": "markdown",
   "metadata": {},
   "source": [
    "## How to show data on interactive map "
   ]
  },
  {
   "cell_type": "code",
   "execution_count": 123,
   "metadata": {},
   "outputs": [
    {
     "data": {
      "text/plain": [
       "43"
      ]
     },
     "execution_count": 123,
     "metadata": {},
     "output_type": "execute_result"
    }
   ],
   "source": [
    "TABLE_DATA = concate_beers\n",
    "len(TABLE_DATA.groupby('Country'))"
   ]
  },
  {
   "cell_type": "code",
   "execution_count": 124,
   "metadata": {},
   "outputs": [
    {
     "data": {
      "text/html": [
       "<div>\n",
       "<style scoped>\n",
       "    .dataframe tbody tr th:only-of-type {\n",
       "        vertical-align: middle;\n",
       "    }\n",
       "\n",
       "    .dataframe tbody tr th {\n",
       "        vertical-align: top;\n",
       "    }\n",
       "\n",
       "    .dataframe thead th {\n",
       "        text-align: right;\n",
       "    }\n",
       "</style>\n",
       "<table border=\"1\" class=\"dataframe\">\n",
       "  <thead>\n",
       "    <tr style=\"text-align: right;\">\n",
       "      <th></th>\n",
       "      <th>Country</th>\n",
       "      <th>continent</th>\n",
       "      <th>Country ID</th>\n",
       "      <th>iso_num</th>\n",
       "    </tr>\n",
       "  </thead>\n",
       "  <tbody>\n",
       "    <tr>\n",
       "      <th>11</th>\n",
       "      <td>Afghanistan</td>\n",
       "      <td>Asia</td>\n",
       "      <td>AFG</td>\n",
       "      <td>4</td>\n",
       "    </tr>\n",
       "    <tr>\n",
       "      <th>23</th>\n",
       "      <td>Albania</td>\n",
       "      <td>Europe</td>\n",
       "      <td>ALB</td>\n",
       "      <td>8</td>\n",
       "    </tr>\n",
       "    <tr>\n",
       "      <th>35</th>\n",
       "      <td>Algeria</td>\n",
       "      <td>Africa</td>\n",
       "      <td>DZA</td>\n",
       "      <td>12</td>\n",
       "    </tr>\n",
       "    <tr>\n",
       "      <th>47</th>\n",
       "      <td>Angola</td>\n",
       "      <td>Africa</td>\n",
       "      <td>AGO</td>\n",
       "      <td>24</td>\n",
       "    </tr>\n",
       "    <tr>\n",
       "      <th>59</th>\n",
       "      <td>Argentina</td>\n",
       "      <td>Americas</td>\n",
       "      <td>ARG</td>\n",
       "      <td>32</td>\n",
       "    </tr>\n",
       "    <tr>\n",
       "      <th>...</th>\n",
       "      <td>...</td>\n",
       "      <td>...</td>\n",
       "      <td>...</td>\n",
       "      <td>...</td>\n",
       "    </tr>\n",
       "    <tr>\n",
       "      <th>1655</th>\n",
       "      <td>Vietnam</td>\n",
       "      <td>Asia</td>\n",
       "      <td>VNM</td>\n",
       "      <td>704</td>\n",
       "    </tr>\n",
       "    <tr>\n",
       "      <th>1667</th>\n",
       "      <td>West Bank and Gaza</td>\n",
       "      <td>Asia</td>\n",
       "      <td>PSE</td>\n",
       "      <td>275</td>\n",
       "    </tr>\n",
       "    <tr>\n",
       "      <th>1679</th>\n",
       "      <td>Yemen, Rep.</td>\n",
       "      <td>Asia</td>\n",
       "      <td>YEM</td>\n",
       "      <td>887</td>\n",
       "    </tr>\n",
       "    <tr>\n",
       "      <th>1691</th>\n",
       "      <td>Zambia</td>\n",
       "      <td>Africa</td>\n",
       "      <td>ZMB</td>\n",
       "      <td>894</td>\n",
       "    </tr>\n",
       "    <tr>\n",
       "      <th>1703</th>\n",
       "      <td>Zimbabwe</td>\n",
       "      <td>Africa</td>\n",
       "      <td>ZWE</td>\n",
       "      <td>716</td>\n",
       "    </tr>\n",
       "  </tbody>\n",
       "</table>\n",
       "<p>142 rows × 4 columns</p>\n",
       "</div>"
      ],
      "text/plain": [
       "                 Country continent Country ID  iso_num\n",
       "11           Afghanistan      Asia        AFG        4\n",
       "23               Albania    Europe        ALB        8\n",
       "35               Algeria    Africa        DZA       12\n",
       "47                Angola    Africa        AGO       24\n",
       "59             Argentina  Americas        ARG       32\n",
       "...                  ...       ...        ...      ...\n",
       "1655             Vietnam      Asia        VNM      704\n",
       "1667  West Bank and Gaza      Asia        PSE      275\n",
       "1679         Yemen, Rep.      Asia        YEM      887\n",
       "1691              Zambia    Africa        ZMB      894\n",
       "1703            Zimbabwe    Africa        ZWE      716\n",
       "\n",
       "[142 rows x 4 columns]"
      ]
     },
     "execution_count": 124,
     "metadata": {},
     "output_type": "execute_result"
    }
   ],
   "source": [
    "df = px.data.gapminder().query(\"year==2007\")\n",
    "df = df.drop(columns=['year', 'lifeExp', 'pop', 'gdpPercap'])\n",
    "df = df.rename(columns={\"country\": \"Country\", \"iso_alpha\": \"Country ID\"})\n",
    "df"
   ]
  },
  {
   "cell_type": "code",
   "execution_count": 125,
   "metadata": {},
   "outputs": [],
   "source": [
    "MAP_DATA.to_csv('map_data.csv')"
   ]
  },
  {
   "cell_type": "code",
   "execution_count": 126,
   "metadata": {},
   "outputs": [
    {
     "data": {
      "text/html": [
       "<div>\n",
       "<style scoped>\n",
       "    .dataframe tbody tr th:only-of-type {\n",
       "        vertical-align: middle;\n",
       "    }\n",
       "\n",
       "    .dataframe tbody tr th {\n",
       "        vertical-align: top;\n",
       "    }\n",
       "\n",
       "    .dataframe thead th {\n",
       "        text-align: right;\n",
       "    }\n",
       "</style>\n",
       "<table border=\"1\" class=\"dataframe\">\n",
       "  <thead>\n",
       "    <tr style=\"text-align: right;\">\n",
       "      <th></th>\n",
       "      <th>Country</th>\n",
       "      <th>continent</th>\n",
       "      <th>Country ID</th>\n",
       "      <th>iso_num</th>\n",
       "      <th>Created Beer</th>\n",
       "    </tr>\n",
       "  </thead>\n",
       "  <tbody>\n",
       "    <tr>\n",
       "      <th>0</th>\n",
       "      <td>Argentina</td>\n",
       "      <td>Americas</td>\n",
       "      <td>ARG</td>\n",
       "      <td>32</td>\n",
       "      <td>4</td>\n",
       "    </tr>\n",
       "    <tr>\n",
       "      <th>1</th>\n",
       "      <td>Australia</td>\n",
       "      <td>Oceania</td>\n",
       "      <td>AUS</td>\n",
       "      <td>36</td>\n",
       "      <td>15</td>\n",
       "    </tr>\n",
       "    <tr>\n",
       "      <th>2</th>\n",
       "      <td>Austria</td>\n",
       "      <td>Europe</td>\n",
       "      <td>AUT</td>\n",
       "      <td>40</td>\n",
       "      <td>10</td>\n",
       "    </tr>\n",
       "    <tr>\n",
       "      <th>3</th>\n",
       "      <td>Belgium</td>\n",
       "      <td>Europe</td>\n",
       "      <td>BEL</td>\n",
       "      <td>56</td>\n",
       "      <td>91</td>\n",
       "    </tr>\n",
       "    <tr>\n",
       "      <th>4</th>\n",
       "      <td>Brazil</td>\n",
       "      <td>Americas</td>\n",
       "      <td>BRA</td>\n",
       "      <td>76</td>\n",
       "      <td>2</td>\n",
       "    </tr>\n",
       "    <tr>\n",
       "      <th>5</th>\n",
       "      <td>Canada</td>\n",
       "      <td>Americas</td>\n",
       "      <td>CAN</td>\n",
       "      <td>124</td>\n",
       "      <td>57</td>\n",
       "    </tr>\n",
       "    <tr>\n",
       "      <th>6</th>\n",
       "      <td>Czech Republic</td>\n",
       "      <td>Europe</td>\n",
       "      <td>CZE</td>\n",
       "      <td>203</td>\n",
       "      <td>5</td>\n",
       "    </tr>\n",
       "    <tr>\n",
       "      <th>7</th>\n",
       "      <td>Denmark</td>\n",
       "      <td>Europe</td>\n",
       "      <td>DNK</td>\n",
       "      <td>208</td>\n",
       "      <td>5</td>\n",
       "    </tr>\n",
       "    <tr>\n",
       "      <th>8</th>\n",
       "      <td>El Salvador</td>\n",
       "      <td>Americas</td>\n",
       "      <td>SLV</td>\n",
       "      <td>222</td>\n",
       "      <td>1</td>\n",
       "    </tr>\n",
       "    <tr>\n",
       "      <th>9</th>\n",
       "      <td>Finland</td>\n",
       "      <td>Europe</td>\n",
       "      <td>FIN</td>\n",
       "      <td>246</td>\n",
       "      <td>1</td>\n",
       "    </tr>\n",
       "    <tr>\n",
       "      <th>10</th>\n",
       "      <td>France</td>\n",
       "      <td>Europe</td>\n",
       "      <td>FRA</td>\n",
       "      <td>250</td>\n",
       "      <td>1</td>\n",
       "    </tr>\n",
       "    <tr>\n",
       "      <th>11</th>\n",
       "      <td>Germany</td>\n",
       "      <td>Europe</td>\n",
       "      <td>DEU</td>\n",
       "      <td>276</td>\n",
       "      <td>86</td>\n",
       "    </tr>\n",
       "    <tr>\n",
       "      <th>12</th>\n",
       "      <td>Hungary</td>\n",
       "      <td>Europe</td>\n",
       "      <td>HUN</td>\n",
       "      <td>348</td>\n",
       "      <td>4</td>\n",
       "    </tr>\n",
       "    <tr>\n",
       "      <th>13</th>\n",
       "      <td>India</td>\n",
       "      <td>Asia</td>\n",
       "      <td>IND</td>\n",
       "      <td>356</td>\n",
       "      <td>11</td>\n",
       "    </tr>\n",
       "    <tr>\n",
       "      <th>14</th>\n",
       "      <td>Ireland</td>\n",
       "      <td>Europe</td>\n",
       "      <td>IRL</td>\n",
       "      <td>372</td>\n",
       "      <td>14</td>\n",
       "    </tr>\n",
       "    <tr>\n",
       "      <th>15</th>\n",
       "      <td>Italy</td>\n",
       "      <td>Europe</td>\n",
       "      <td>ITA</td>\n",
       "      <td>380</td>\n",
       "      <td>2</td>\n",
       "    </tr>\n",
       "    <tr>\n",
       "      <th>16</th>\n",
       "      <td>Jamaica</td>\n",
       "      <td>Americas</td>\n",
       "      <td>JAM</td>\n",
       "      <td>388</td>\n",
       "      <td>2</td>\n",
       "    </tr>\n",
       "    <tr>\n",
       "      <th>17</th>\n",
       "      <td>Japan</td>\n",
       "      <td>Asia</td>\n",
       "      <td>JPN</td>\n",
       "      <td>392</td>\n",
       "      <td>6</td>\n",
       "    </tr>\n",
       "    <tr>\n",
       "      <th>18</th>\n",
       "      <td>Mexico</td>\n",
       "      <td>Americas</td>\n",
       "      <td>MEX</td>\n",
       "      <td>484</td>\n",
       "      <td>6</td>\n",
       "    </tr>\n",
       "    <tr>\n",
       "      <th>19</th>\n",
       "      <td>Myanmar</td>\n",
       "      <td>Asia</td>\n",
       "      <td>MMR</td>\n",
       "      <td>104</td>\n",
       "      <td>1</td>\n",
       "    </tr>\n",
       "    <tr>\n",
       "      <th>20</th>\n",
       "      <td>Netherlands</td>\n",
       "      <td>Europe</td>\n",
       "      <td>NLD</td>\n",
       "      <td>528</td>\n",
       "      <td>14</td>\n",
       "    </tr>\n",
       "    <tr>\n",
       "      <th>21</th>\n",
       "      <td>New Zealand</td>\n",
       "      <td>Oceania</td>\n",
       "      <td>NZL</td>\n",
       "      <td>554</td>\n",
       "      <td>7</td>\n",
       "    </tr>\n",
       "    <tr>\n",
       "      <th>22</th>\n",
       "      <td>Norway</td>\n",
       "      <td>Europe</td>\n",
       "      <td>NOR</td>\n",
       "      <td>578</td>\n",
       "      <td>18</td>\n",
       "    </tr>\n",
       "    <tr>\n",
       "      <th>23</th>\n",
       "      <td>Panama</td>\n",
       "      <td>Americas</td>\n",
       "      <td>PAN</td>\n",
       "      <td>591</td>\n",
       "      <td>1</td>\n",
       "    </tr>\n",
       "    <tr>\n",
       "      <th>24</th>\n",
       "      <td>Poland</td>\n",
       "      <td>Europe</td>\n",
       "      <td>POL</td>\n",
       "      <td>616</td>\n",
       "      <td>6</td>\n",
       "    </tr>\n",
       "    <tr>\n",
       "      <th>25</th>\n",
       "      <td>Portugal</td>\n",
       "      <td>Europe</td>\n",
       "      <td>PRT</td>\n",
       "      <td>620</td>\n",
       "      <td>1</td>\n",
       "    </tr>\n",
       "    <tr>\n",
       "      <th>26</th>\n",
       "      <td>Spain</td>\n",
       "      <td>Europe</td>\n",
       "      <td>ESP</td>\n",
       "      <td>724</td>\n",
       "      <td>5</td>\n",
       "    </tr>\n",
       "    <tr>\n",
       "      <th>27</th>\n",
       "      <td>Sri Lanka</td>\n",
       "      <td>Asia</td>\n",
       "      <td>LKA</td>\n",
       "      <td>144</td>\n",
       "      <td>1</td>\n",
       "    </tr>\n",
       "    <tr>\n",
       "      <th>28</th>\n",
       "      <td>Sweden</td>\n",
       "      <td>Europe</td>\n",
       "      <td>SWE</td>\n",
       "      <td>752</td>\n",
       "      <td>3</td>\n",
       "    </tr>\n",
       "    <tr>\n",
       "      <th>29</th>\n",
       "      <td>Switzerland</td>\n",
       "      <td>Europe</td>\n",
       "      <td>CHE</td>\n",
       "      <td>756</td>\n",
       "      <td>4</td>\n",
       "    </tr>\n",
       "    <tr>\n",
       "      <th>30</th>\n",
       "      <td>Thailand</td>\n",
       "      <td>Asia</td>\n",
       "      <td>THA</td>\n",
       "      <td>764</td>\n",
       "      <td>1</td>\n",
       "    </tr>\n",
       "    <tr>\n",
       "      <th>31</th>\n",
       "      <td>United Kingdom</td>\n",
       "      <td>Europe</td>\n",
       "      <td>GBR</td>\n",
       "      <td>826</td>\n",
       "      <td>104</td>\n",
       "    </tr>\n",
       "    <tr>\n",
       "      <th>32</th>\n",
       "      <td>United States</td>\n",
       "      <td>Americas</td>\n",
       "      <td>USA</td>\n",
       "      <td>840</td>\n",
       "      <td>82</td>\n",
       "    </tr>\n",
       "  </tbody>\n",
       "</table>\n",
       "</div>"
      ],
      "text/plain": [
       "           Country continent Country ID  iso_num  Created Beer\n",
       "0        Argentina  Americas        ARG       32             4\n",
       "1        Australia   Oceania        AUS       36            15\n",
       "2          Austria    Europe        AUT       40            10\n",
       "3          Belgium    Europe        BEL       56            91\n",
       "4           Brazil  Americas        BRA       76             2\n",
       "5           Canada  Americas        CAN      124            57\n",
       "6   Czech Republic    Europe        CZE      203             5\n",
       "7          Denmark    Europe        DNK      208             5\n",
       "8      El Salvador  Americas        SLV      222             1\n",
       "9          Finland    Europe        FIN      246             1\n",
       "10          France    Europe        FRA      250             1\n",
       "11         Germany    Europe        DEU      276            86\n",
       "12         Hungary    Europe        HUN      348             4\n",
       "13           India      Asia        IND      356            11\n",
       "14         Ireland    Europe        IRL      372            14\n",
       "15           Italy    Europe        ITA      380             2\n",
       "16         Jamaica  Americas        JAM      388             2\n",
       "17           Japan      Asia        JPN      392             6\n",
       "18          Mexico  Americas        MEX      484             6\n",
       "19         Myanmar      Asia        MMR      104             1\n",
       "20     Netherlands    Europe        NLD      528            14\n",
       "21     New Zealand   Oceania        NZL      554             7\n",
       "22          Norway    Europe        NOR      578            18\n",
       "23          Panama  Americas        PAN      591             1\n",
       "24          Poland    Europe        POL      616             6\n",
       "25        Portugal    Europe        PRT      620             1\n",
       "26           Spain    Europe        ESP      724             5\n",
       "27       Sri Lanka      Asia        LKA      144             1\n",
       "28          Sweden    Europe        SWE      752             3\n",
       "29     Switzerland    Europe        CHE      756             4\n",
       "30        Thailand      Asia        THA      764             1\n",
       "31  United Kingdom    Europe        GBR      826           104\n",
       "32   United States  Americas        USA      840            82"
      ]
     },
     "execution_count": 126,
     "metadata": {},
     "output_type": "execute_result"
    }
   ],
   "source": [
    "MAP_DATA = pd.read_csv('map_data.csv', index_col=0)\n",
    "origin_country = TABLE_DATA.groupby('Country').size()\n",
    "\n",
    "origin_country[\"United States\"] = origin_country[\"United States\"] / 52\n",
    "MAP_DATA['Created Beer'] = MAP_DATA['Country'].apply(lambda x: origin_country[x] if x in origin_country.index else 0 )\n",
    "MAP_DATA = MAP_DATA.loc[MAP_DATA['Created Beer'] != 0]\n",
    "MAP_DATA.reset_index(drop=True)\n",
    "MAP_DATA"
   ]
  },
  {
   "cell_type": "code",
   "execution_count": 20,
   "metadata": {},
   "outputs": [
    {
     "data": {
      "application/vnd.plotly.v1+json": {
       "config": {
        "plotlyServerURL": "https://plot.ly"
       },
       "data": [
        {
         "coloraxis": "coloraxis",
         "geo": "geo",
         "hovertemplate": "<b>%{hovertext}</b><br><br>Country ID=%{location}<br>Created Beer=%{z}<extra></extra>",
         "hovertext": [
          "Argentina",
          "Australia",
          "Austria",
          "Belgium",
          "Brazil",
          "Canada",
          "Czech Republic",
          "Denmark",
          "El Salvador",
          "Finland",
          "France",
          "Germany",
          "Hungary",
          "India",
          "Ireland",
          "Italy",
          "Jamaica",
          "Japan",
          "Mexico",
          "Myanmar",
          "Netherlands",
          "New Zealand",
          "Norway",
          "Panama",
          "Poland",
          "Portugal",
          "Spain",
          "Sri Lanka",
          "Sweden",
          "Switzerland",
          "Thailand",
          "United Kingdom",
          "United States"
         ],
         "locations": [
          "ARG",
          "AUS",
          "AUT",
          "BEL",
          "BRA",
          "CAN",
          "CZE",
          "DNK",
          "SLV",
          "FIN",
          "FRA",
          "DEU",
          "HUN",
          "IND",
          "IRL",
          "ITA",
          "JAM",
          "JPN",
          "MEX",
          "MMR",
          "NLD",
          "NZL",
          "NOR",
          "PAN",
          "POL",
          "PRT",
          "ESP",
          "LKA",
          "SWE",
          "CHE",
          "THA",
          "GBR",
          "USA"
         ],
         "name": "",
         "type": "choropleth",
         "z": [
          4,
          15,
          10,
          91,
          2,
          57,
          5,
          5,
          1,
          1,
          1,
          86,
          4,
          11,
          14,
          2,
          2,
          6,
          6,
          1,
          14,
          7,
          18,
          1,
          6,
          1,
          5,
          1,
          3,
          4,
          1,
          104,
          4313
         ]
        }
       ],
       "layout": {
        "coloraxis": {
         "colorbar": {
          "title": {
           "text": "Created Beer"
          }
         },
         "colorscale": [
          [
           0,
           "#0d0887"
          ],
          [
           0.1111111111111111,
           "#46039f"
          ],
          [
           0.2222222222222222,
           "#7201a8"
          ],
          [
           0.3333333333333333,
           "#9c179e"
          ],
          [
           0.4444444444444444,
           "#bd3786"
          ],
          [
           0.5555555555555556,
           "#d8576b"
          ],
          [
           0.6666666666666666,
           "#ed7953"
          ],
          [
           0.7777777777777778,
           "#fb9f3a"
          ],
          [
           0.8888888888888888,
           "#fdca26"
          ],
          [
           1,
           "#f0f921"
          ]
         ]
        },
        "geo": {
         "center": {},
         "domain": {
          "x": [
           0,
           1
          ],
          "y": [
           0,
           1
          ]
         }
        },
        "legend": {
         "tracegroupgap": 0
        },
        "margin": {
         "t": 60
        },
        "template": {
         "data": {
          "bar": [
           {
            "error_x": {
             "color": "#2a3f5f"
            },
            "error_y": {
             "color": "#2a3f5f"
            },
            "marker": {
             "line": {
              "color": "#E5ECF6",
              "width": 0.5
             }
            },
            "type": "bar"
           }
          ],
          "barpolar": [
           {
            "marker": {
             "line": {
              "color": "#E5ECF6",
              "width": 0.5
             }
            },
            "type": "barpolar"
           }
          ],
          "carpet": [
           {
            "aaxis": {
             "endlinecolor": "#2a3f5f",
             "gridcolor": "white",
             "linecolor": "white",
             "minorgridcolor": "white",
             "startlinecolor": "#2a3f5f"
            },
            "baxis": {
             "endlinecolor": "#2a3f5f",
             "gridcolor": "white",
             "linecolor": "white",
             "minorgridcolor": "white",
             "startlinecolor": "#2a3f5f"
            },
            "type": "carpet"
           }
          ],
          "choropleth": [
           {
            "colorbar": {
             "outlinewidth": 0,
             "ticks": ""
            },
            "type": "choropleth"
           }
          ],
          "contour": [
           {
            "colorbar": {
             "outlinewidth": 0,
             "ticks": ""
            },
            "colorscale": [
             [
              0,
              "#0d0887"
             ],
             [
              0.1111111111111111,
              "#46039f"
             ],
             [
              0.2222222222222222,
              "#7201a8"
             ],
             [
              0.3333333333333333,
              "#9c179e"
             ],
             [
              0.4444444444444444,
              "#bd3786"
             ],
             [
              0.5555555555555556,
              "#d8576b"
             ],
             [
              0.6666666666666666,
              "#ed7953"
             ],
             [
              0.7777777777777778,
              "#fb9f3a"
             ],
             [
              0.8888888888888888,
              "#fdca26"
             ],
             [
              1,
              "#f0f921"
             ]
            ],
            "type": "contour"
           }
          ],
          "contourcarpet": [
           {
            "colorbar": {
             "outlinewidth": 0,
             "ticks": ""
            },
            "type": "contourcarpet"
           }
          ],
          "heatmap": [
           {
            "colorbar": {
             "outlinewidth": 0,
             "ticks": ""
            },
            "colorscale": [
             [
              0,
              "#0d0887"
             ],
             [
              0.1111111111111111,
              "#46039f"
             ],
             [
              0.2222222222222222,
              "#7201a8"
             ],
             [
              0.3333333333333333,
              "#9c179e"
             ],
             [
              0.4444444444444444,
              "#bd3786"
             ],
             [
              0.5555555555555556,
              "#d8576b"
             ],
             [
              0.6666666666666666,
              "#ed7953"
             ],
             [
              0.7777777777777778,
              "#fb9f3a"
             ],
             [
              0.8888888888888888,
              "#fdca26"
             ],
             [
              1,
              "#f0f921"
             ]
            ],
            "type": "heatmap"
           }
          ],
          "heatmapgl": [
           {
            "colorbar": {
             "outlinewidth": 0,
             "ticks": ""
            },
            "colorscale": [
             [
              0,
              "#0d0887"
             ],
             [
              0.1111111111111111,
              "#46039f"
             ],
             [
              0.2222222222222222,
              "#7201a8"
             ],
             [
              0.3333333333333333,
              "#9c179e"
             ],
             [
              0.4444444444444444,
              "#bd3786"
             ],
             [
              0.5555555555555556,
              "#d8576b"
             ],
             [
              0.6666666666666666,
              "#ed7953"
             ],
             [
              0.7777777777777778,
              "#fb9f3a"
             ],
             [
              0.8888888888888888,
              "#fdca26"
             ],
             [
              1,
              "#f0f921"
             ]
            ],
            "type": "heatmapgl"
           }
          ],
          "histogram": [
           {
            "marker": {
             "colorbar": {
              "outlinewidth": 0,
              "ticks": ""
             }
            },
            "type": "histogram"
           }
          ],
          "histogram2d": [
           {
            "colorbar": {
             "outlinewidth": 0,
             "ticks": ""
            },
            "colorscale": [
             [
              0,
              "#0d0887"
             ],
             [
              0.1111111111111111,
              "#46039f"
             ],
             [
              0.2222222222222222,
              "#7201a8"
             ],
             [
              0.3333333333333333,
              "#9c179e"
             ],
             [
              0.4444444444444444,
              "#bd3786"
             ],
             [
              0.5555555555555556,
              "#d8576b"
             ],
             [
              0.6666666666666666,
              "#ed7953"
             ],
             [
              0.7777777777777778,
              "#fb9f3a"
             ],
             [
              0.8888888888888888,
              "#fdca26"
             ],
             [
              1,
              "#f0f921"
             ]
            ],
            "type": "histogram2d"
           }
          ],
          "histogram2dcontour": [
           {
            "colorbar": {
             "outlinewidth": 0,
             "ticks": ""
            },
            "colorscale": [
             [
              0,
              "#0d0887"
             ],
             [
              0.1111111111111111,
              "#46039f"
             ],
             [
              0.2222222222222222,
              "#7201a8"
             ],
             [
              0.3333333333333333,
              "#9c179e"
             ],
             [
              0.4444444444444444,
              "#bd3786"
             ],
             [
              0.5555555555555556,
              "#d8576b"
             ],
             [
              0.6666666666666666,
              "#ed7953"
             ],
             [
              0.7777777777777778,
              "#fb9f3a"
             ],
             [
              0.8888888888888888,
              "#fdca26"
             ],
             [
              1,
              "#f0f921"
             ]
            ],
            "type": "histogram2dcontour"
           }
          ],
          "mesh3d": [
           {
            "colorbar": {
             "outlinewidth": 0,
             "ticks": ""
            },
            "type": "mesh3d"
           }
          ],
          "parcoords": [
           {
            "line": {
             "colorbar": {
              "outlinewidth": 0,
              "ticks": ""
             }
            },
            "type": "parcoords"
           }
          ],
          "pie": [
           {
            "automargin": true,
            "type": "pie"
           }
          ],
          "scatter": [
           {
            "marker": {
             "colorbar": {
              "outlinewidth": 0,
              "ticks": ""
             }
            },
            "type": "scatter"
           }
          ],
          "scatter3d": [
           {
            "line": {
             "colorbar": {
              "outlinewidth": 0,
              "ticks": ""
             }
            },
            "marker": {
             "colorbar": {
              "outlinewidth": 0,
              "ticks": ""
             }
            },
            "type": "scatter3d"
           }
          ],
          "scattercarpet": [
           {
            "marker": {
             "colorbar": {
              "outlinewidth": 0,
              "ticks": ""
             }
            },
            "type": "scattercarpet"
           }
          ],
          "scattergeo": [
           {
            "marker": {
             "colorbar": {
              "outlinewidth": 0,
              "ticks": ""
             }
            },
            "type": "scattergeo"
           }
          ],
          "scattergl": [
           {
            "marker": {
             "colorbar": {
              "outlinewidth": 0,
              "ticks": ""
             }
            },
            "type": "scattergl"
           }
          ],
          "scattermapbox": [
           {
            "marker": {
             "colorbar": {
              "outlinewidth": 0,
              "ticks": ""
             }
            },
            "type": "scattermapbox"
           }
          ],
          "scatterpolar": [
           {
            "marker": {
             "colorbar": {
              "outlinewidth": 0,
              "ticks": ""
             }
            },
            "type": "scatterpolar"
           }
          ],
          "scatterpolargl": [
           {
            "marker": {
             "colorbar": {
              "outlinewidth": 0,
              "ticks": ""
             }
            },
            "type": "scatterpolargl"
           }
          ],
          "scatterternary": [
           {
            "marker": {
             "colorbar": {
              "outlinewidth": 0,
              "ticks": ""
             }
            },
            "type": "scatterternary"
           }
          ],
          "surface": [
           {
            "colorbar": {
             "outlinewidth": 0,
             "ticks": ""
            },
            "colorscale": [
             [
              0,
              "#0d0887"
             ],
             [
              0.1111111111111111,
              "#46039f"
             ],
             [
              0.2222222222222222,
              "#7201a8"
             ],
             [
              0.3333333333333333,
              "#9c179e"
             ],
             [
              0.4444444444444444,
              "#bd3786"
             ],
             [
              0.5555555555555556,
              "#d8576b"
             ],
             [
              0.6666666666666666,
              "#ed7953"
             ],
             [
              0.7777777777777778,
              "#fb9f3a"
             ],
             [
              0.8888888888888888,
              "#fdca26"
             ],
             [
              1,
              "#f0f921"
             ]
            ],
            "type": "surface"
           }
          ],
          "table": [
           {
            "cells": {
             "fill": {
              "color": "#EBF0F8"
             },
             "line": {
              "color": "white"
             }
            },
            "header": {
             "fill": {
              "color": "#C8D4E3"
             },
             "line": {
              "color": "white"
             }
            },
            "type": "table"
           }
          ]
         },
         "layout": {
          "annotationdefaults": {
           "arrowcolor": "#2a3f5f",
           "arrowhead": 0,
           "arrowwidth": 1
          },
          "autotypenumbers": "strict",
          "coloraxis": {
           "colorbar": {
            "outlinewidth": 0,
            "ticks": ""
           }
          },
          "colorscale": {
           "diverging": [
            [
             0,
             "#8e0152"
            ],
            [
             0.1,
             "#c51b7d"
            ],
            [
             0.2,
             "#de77ae"
            ],
            [
             0.3,
             "#f1b6da"
            ],
            [
             0.4,
             "#fde0ef"
            ],
            [
             0.5,
             "#f7f7f7"
            ],
            [
             0.6,
             "#e6f5d0"
            ],
            [
             0.7,
             "#b8e186"
            ],
            [
             0.8,
             "#7fbc41"
            ],
            [
             0.9,
             "#4d9221"
            ],
            [
             1,
             "#276419"
            ]
           ],
           "sequential": [
            [
             0,
             "#0d0887"
            ],
            [
             0.1111111111111111,
             "#46039f"
            ],
            [
             0.2222222222222222,
             "#7201a8"
            ],
            [
             0.3333333333333333,
             "#9c179e"
            ],
            [
             0.4444444444444444,
             "#bd3786"
            ],
            [
             0.5555555555555556,
             "#d8576b"
            ],
            [
             0.6666666666666666,
             "#ed7953"
            ],
            [
             0.7777777777777778,
             "#fb9f3a"
            ],
            [
             0.8888888888888888,
             "#fdca26"
            ],
            [
             1,
             "#f0f921"
            ]
           ],
           "sequentialminus": [
            [
             0,
             "#0d0887"
            ],
            [
             0.1111111111111111,
             "#46039f"
            ],
            [
             0.2222222222222222,
             "#7201a8"
            ],
            [
             0.3333333333333333,
             "#9c179e"
            ],
            [
             0.4444444444444444,
             "#bd3786"
            ],
            [
             0.5555555555555556,
             "#d8576b"
            ],
            [
             0.6666666666666666,
             "#ed7953"
            ],
            [
             0.7777777777777778,
             "#fb9f3a"
            ],
            [
             0.8888888888888888,
             "#fdca26"
            ],
            [
             1,
             "#f0f921"
            ]
           ]
          },
          "colorway": [
           "#636efa",
           "#EF553B",
           "#00cc96",
           "#ab63fa",
           "#FFA15A",
           "#19d3f3",
           "#FF6692",
           "#B6E880",
           "#FF97FF",
           "#FECB52"
          ],
          "font": {
           "color": "#2a3f5f"
          },
          "geo": {
           "bgcolor": "white",
           "lakecolor": "white",
           "landcolor": "#E5ECF6",
           "showlakes": true,
           "showland": true,
           "subunitcolor": "white"
          },
          "hoverlabel": {
           "align": "left"
          },
          "hovermode": "closest",
          "mapbox": {
           "style": "light"
          },
          "paper_bgcolor": "white",
          "plot_bgcolor": "#E5ECF6",
          "polar": {
           "angularaxis": {
            "gridcolor": "white",
            "linecolor": "white",
            "ticks": ""
           },
           "bgcolor": "#E5ECF6",
           "radialaxis": {
            "gridcolor": "white",
            "linecolor": "white",
            "ticks": ""
           }
          },
          "scene": {
           "xaxis": {
            "backgroundcolor": "#E5ECF6",
            "gridcolor": "white",
            "gridwidth": 2,
            "linecolor": "white",
            "showbackground": true,
            "ticks": "",
            "zerolinecolor": "white"
           },
           "yaxis": {
            "backgroundcolor": "#E5ECF6",
            "gridcolor": "white",
            "gridwidth": 2,
            "linecolor": "white",
            "showbackground": true,
            "ticks": "",
            "zerolinecolor": "white"
           },
           "zaxis": {
            "backgroundcolor": "#E5ECF6",
            "gridcolor": "white",
            "gridwidth": 2,
            "linecolor": "white",
            "showbackground": true,
            "ticks": "",
            "zerolinecolor": "white"
           }
          },
          "shapedefaults": {
           "line": {
            "color": "#2a3f5f"
           }
          },
          "ternary": {
           "aaxis": {
            "gridcolor": "white",
            "linecolor": "white",
            "ticks": ""
           },
           "baxis": {
            "gridcolor": "white",
            "linecolor": "white",
            "ticks": ""
           },
           "bgcolor": "#E5ECF6",
           "caxis": {
            "gridcolor": "white",
            "linecolor": "white",
            "ticks": ""
           }
          },
          "title": {
           "x": 0.05
          },
          "xaxis": {
           "automargin": true,
           "gridcolor": "white",
           "linecolor": "white",
           "ticks": "",
           "title": {
            "standoff": 15
           },
           "zerolinecolor": "white",
           "zerolinewidth": 2
          },
          "yaxis": {
           "automargin": true,
           "gridcolor": "white",
           "linecolor": "white",
           "ticks": "",
           "title": {
            "standoff": 15
           },
           "zerolinecolor": "white",
           "zerolinewidth": 2
          }
         }
        }
       }
      },
      "text/html": [
       "<div>                            <div id=\"9a6515a1-c777-459f-ad57-eb1f30c54c64\" class=\"plotly-graph-div\" style=\"height:525px; width:100%;\"></div>            <script type=\"text/javascript\">                require([\"plotly\"], function(Plotly) {                    window.PLOTLYENV=window.PLOTLYENV || {};                                    if (document.getElementById(\"9a6515a1-c777-459f-ad57-eb1f30c54c64\")) {                    Plotly.newPlot(                        \"9a6515a1-c777-459f-ad57-eb1f30c54c64\",                        [{\"coloraxis\": \"coloraxis\", \"geo\": \"geo\", \"hovertemplate\": \"<b>%{hovertext}</b><br><br>Country ID=%{location}<br>Created Beer=%{z}<extra></extra>\", \"hovertext\": [\"Argentina\", \"Australia\", \"Austria\", \"Belgium\", \"Brazil\", \"Canada\", \"Czech Republic\", \"Denmark\", \"El Salvador\", \"Finland\", \"France\", \"Germany\", \"Hungary\", \"India\", \"Ireland\", \"Italy\", \"Jamaica\", \"Japan\", \"Mexico\", \"Myanmar\", \"Netherlands\", \"New Zealand\", \"Norway\", \"Panama\", \"Poland\", \"Portugal\", \"Spain\", \"Sri Lanka\", \"Sweden\", \"Switzerland\", \"Thailand\", \"United Kingdom\", \"United States\"], \"locations\": [\"ARG\", \"AUS\", \"AUT\", \"BEL\", \"BRA\", \"CAN\", \"CZE\", \"DNK\", \"SLV\", \"FIN\", \"FRA\", \"DEU\", \"HUN\", \"IND\", \"IRL\", \"ITA\", \"JAM\", \"JPN\", \"MEX\", \"MMR\", \"NLD\", \"NZL\", \"NOR\", \"PAN\", \"POL\", \"PRT\", \"ESP\", \"LKA\", \"SWE\", \"CHE\", \"THA\", \"GBR\", \"USA\"], \"name\": \"\", \"type\": \"choropleth\", \"z\": [4, 15, 10, 91, 2, 57, 5, 5, 1, 1, 1, 86, 4, 11, 14, 2, 2, 6, 6, 1, 14, 7, 18, 1, 6, 1, 5, 1, 3, 4, 1, 104, 4313]}],                        {\"coloraxis\": {\"colorbar\": {\"title\": {\"text\": \"Created Beer\"}}, \"colorscale\": [[0.0, \"#0d0887\"], [0.1111111111111111, \"#46039f\"], [0.2222222222222222, \"#7201a8\"], [0.3333333333333333, \"#9c179e\"], [0.4444444444444444, \"#bd3786\"], [0.5555555555555556, \"#d8576b\"], [0.6666666666666666, \"#ed7953\"], [0.7777777777777778, \"#fb9f3a\"], [0.8888888888888888, \"#fdca26\"], [1.0, \"#f0f921\"]]}, \"geo\": {\"center\": {}, \"domain\": {\"x\": [0.0, 1.0], \"y\": [0.0, 1.0]}}, \"legend\": {\"tracegroupgap\": 0}, \"margin\": {\"t\": 60}, \"template\": {\"data\": {\"bar\": [{\"error_x\": {\"color\": \"#2a3f5f\"}, \"error_y\": {\"color\": \"#2a3f5f\"}, \"marker\": {\"line\": {\"color\": \"#E5ECF6\", \"width\": 0.5}}, \"type\": \"bar\"}], \"barpolar\": [{\"marker\": {\"line\": {\"color\": \"#E5ECF6\", \"width\": 0.5}}, \"type\": \"barpolar\"}], \"carpet\": [{\"aaxis\": {\"endlinecolor\": \"#2a3f5f\", \"gridcolor\": \"white\", \"linecolor\": \"white\", \"minorgridcolor\": \"white\", \"startlinecolor\": \"#2a3f5f\"}, \"baxis\": {\"endlinecolor\": \"#2a3f5f\", \"gridcolor\": \"white\", \"linecolor\": \"white\", \"minorgridcolor\": \"white\", \"startlinecolor\": \"#2a3f5f\"}, \"type\": \"carpet\"}], \"choropleth\": [{\"colorbar\": {\"outlinewidth\": 0, \"ticks\": \"\"}, \"type\": \"choropleth\"}], \"contour\": [{\"colorbar\": {\"outlinewidth\": 0, \"ticks\": \"\"}, \"colorscale\": [[0.0, \"#0d0887\"], [0.1111111111111111, \"#46039f\"], [0.2222222222222222, \"#7201a8\"], [0.3333333333333333, \"#9c179e\"], [0.4444444444444444, \"#bd3786\"], [0.5555555555555556, \"#d8576b\"], [0.6666666666666666, \"#ed7953\"], [0.7777777777777778, \"#fb9f3a\"], [0.8888888888888888, \"#fdca26\"], [1.0, \"#f0f921\"]], \"type\": \"contour\"}], \"contourcarpet\": [{\"colorbar\": {\"outlinewidth\": 0, \"ticks\": \"\"}, \"type\": \"contourcarpet\"}], \"heatmap\": [{\"colorbar\": {\"outlinewidth\": 0, \"ticks\": \"\"}, \"colorscale\": [[0.0, \"#0d0887\"], [0.1111111111111111, \"#46039f\"], [0.2222222222222222, \"#7201a8\"], [0.3333333333333333, \"#9c179e\"], [0.4444444444444444, \"#bd3786\"], [0.5555555555555556, \"#d8576b\"], [0.6666666666666666, \"#ed7953\"], [0.7777777777777778, \"#fb9f3a\"], [0.8888888888888888, \"#fdca26\"], [1.0, \"#f0f921\"]], \"type\": \"heatmap\"}], \"heatmapgl\": [{\"colorbar\": {\"outlinewidth\": 0, \"ticks\": \"\"}, \"colorscale\": [[0.0, \"#0d0887\"], [0.1111111111111111, \"#46039f\"], [0.2222222222222222, \"#7201a8\"], [0.3333333333333333, \"#9c179e\"], [0.4444444444444444, \"#bd3786\"], [0.5555555555555556, \"#d8576b\"], [0.6666666666666666, \"#ed7953\"], [0.7777777777777778, \"#fb9f3a\"], [0.8888888888888888, \"#fdca26\"], [1.0, \"#f0f921\"]], \"type\": \"heatmapgl\"}], \"histogram\": [{\"marker\": {\"colorbar\": {\"outlinewidth\": 0, \"ticks\": \"\"}}, \"type\": \"histogram\"}], \"histogram2d\": [{\"colorbar\": {\"outlinewidth\": 0, \"ticks\": \"\"}, \"colorscale\": [[0.0, \"#0d0887\"], [0.1111111111111111, \"#46039f\"], [0.2222222222222222, \"#7201a8\"], [0.3333333333333333, \"#9c179e\"], [0.4444444444444444, \"#bd3786\"], [0.5555555555555556, \"#d8576b\"], [0.6666666666666666, \"#ed7953\"], [0.7777777777777778, \"#fb9f3a\"], [0.8888888888888888, \"#fdca26\"], [1.0, \"#f0f921\"]], \"type\": \"histogram2d\"}], \"histogram2dcontour\": [{\"colorbar\": {\"outlinewidth\": 0, \"ticks\": \"\"}, \"colorscale\": [[0.0, \"#0d0887\"], [0.1111111111111111, \"#46039f\"], [0.2222222222222222, \"#7201a8\"], [0.3333333333333333, \"#9c179e\"], [0.4444444444444444, \"#bd3786\"], [0.5555555555555556, \"#d8576b\"], [0.6666666666666666, \"#ed7953\"], [0.7777777777777778, \"#fb9f3a\"], [0.8888888888888888, \"#fdca26\"], [1.0, \"#f0f921\"]], \"type\": \"histogram2dcontour\"}], \"mesh3d\": [{\"colorbar\": {\"outlinewidth\": 0, \"ticks\": \"\"}, \"type\": \"mesh3d\"}], \"parcoords\": [{\"line\": {\"colorbar\": {\"outlinewidth\": 0, \"ticks\": \"\"}}, \"type\": \"parcoords\"}], \"pie\": [{\"automargin\": true, \"type\": \"pie\"}], \"scatter\": [{\"marker\": {\"colorbar\": {\"outlinewidth\": 0, \"ticks\": \"\"}}, \"type\": \"scatter\"}], \"scatter3d\": [{\"line\": {\"colorbar\": {\"outlinewidth\": 0, \"ticks\": \"\"}}, \"marker\": {\"colorbar\": {\"outlinewidth\": 0, \"ticks\": \"\"}}, \"type\": \"scatter3d\"}], \"scattercarpet\": [{\"marker\": {\"colorbar\": {\"outlinewidth\": 0, \"ticks\": \"\"}}, \"type\": \"scattercarpet\"}], \"scattergeo\": [{\"marker\": {\"colorbar\": {\"outlinewidth\": 0, \"ticks\": \"\"}}, \"type\": \"scattergeo\"}], \"scattergl\": [{\"marker\": {\"colorbar\": {\"outlinewidth\": 0, \"ticks\": \"\"}}, \"type\": \"scattergl\"}], \"scattermapbox\": [{\"marker\": {\"colorbar\": {\"outlinewidth\": 0, \"ticks\": \"\"}}, \"type\": \"scattermapbox\"}], \"scatterpolar\": [{\"marker\": {\"colorbar\": {\"outlinewidth\": 0, \"ticks\": \"\"}}, \"type\": \"scatterpolar\"}], \"scatterpolargl\": [{\"marker\": {\"colorbar\": {\"outlinewidth\": 0, \"ticks\": \"\"}}, \"type\": \"scatterpolargl\"}], \"scatterternary\": [{\"marker\": {\"colorbar\": {\"outlinewidth\": 0, \"ticks\": \"\"}}, \"type\": \"scatterternary\"}], \"surface\": [{\"colorbar\": {\"outlinewidth\": 0, \"ticks\": \"\"}, \"colorscale\": [[0.0, \"#0d0887\"], [0.1111111111111111, \"#46039f\"], [0.2222222222222222, \"#7201a8\"], [0.3333333333333333, \"#9c179e\"], [0.4444444444444444, \"#bd3786\"], [0.5555555555555556, \"#d8576b\"], [0.6666666666666666, \"#ed7953\"], [0.7777777777777778, \"#fb9f3a\"], [0.8888888888888888, \"#fdca26\"], [1.0, \"#f0f921\"]], \"type\": \"surface\"}], \"table\": [{\"cells\": {\"fill\": {\"color\": \"#EBF0F8\"}, \"line\": {\"color\": \"white\"}}, \"header\": {\"fill\": {\"color\": \"#C8D4E3\"}, \"line\": {\"color\": \"white\"}}, \"type\": \"table\"}]}, \"layout\": {\"annotationdefaults\": {\"arrowcolor\": \"#2a3f5f\", \"arrowhead\": 0, \"arrowwidth\": 1}, \"autotypenumbers\": \"strict\", \"coloraxis\": {\"colorbar\": {\"outlinewidth\": 0, \"ticks\": \"\"}}, \"colorscale\": {\"diverging\": [[0, \"#8e0152\"], [0.1, \"#c51b7d\"], [0.2, \"#de77ae\"], [0.3, \"#f1b6da\"], [0.4, \"#fde0ef\"], [0.5, \"#f7f7f7\"], [0.6, \"#e6f5d0\"], [0.7, \"#b8e186\"], [0.8, \"#7fbc41\"], [0.9, \"#4d9221\"], [1, \"#276419\"]], \"sequential\": [[0.0, \"#0d0887\"], [0.1111111111111111, \"#46039f\"], [0.2222222222222222, \"#7201a8\"], [0.3333333333333333, \"#9c179e\"], [0.4444444444444444, \"#bd3786\"], [0.5555555555555556, \"#d8576b\"], [0.6666666666666666, \"#ed7953\"], [0.7777777777777778, \"#fb9f3a\"], [0.8888888888888888, \"#fdca26\"], [1.0, \"#f0f921\"]], \"sequentialminus\": [[0.0, \"#0d0887\"], [0.1111111111111111, \"#46039f\"], [0.2222222222222222, \"#7201a8\"], [0.3333333333333333, \"#9c179e\"], [0.4444444444444444, \"#bd3786\"], [0.5555555555555556, \"#d8576b\"], [0.6666666666666666, \"#ed7953\"], [0.7777777777777778, \"#fb9f3a\"], [0.8888888888888888, \"#fdca26\"], [1.0, \"#f0f921\"]]}, \"colorway\": [\"#636efa\", \"#EF553B\", \"#00cc96\", \"#ab63fa\", \"#FFA15A\", \"#19d3f3\", \"#FF6692\", \"#B6E880\", \"#FF97FF\", \"#FECB52\"], \"font\": {\"color\": \"#2a3f5f\"}, \"geo\": {\"bgcolor\": \"white\", \"lakecolor\": \"white\", \"landcolor\": \"#E5ECF6\", \"showlakes\": true, \"showland\": true, \"subunitcolor\": \"white\"}, \"hoverlabel\": {\"align\": \"left\"}, \"hovermode\": \"closest\", \"mapbox\": {\"style\": \"light\"}, \"paper_bgcolor\": \"white\", \"plot_bgcolor\": \"#E5ECF6\", \"polar\": {\"angularaxis\": {\"gridcolor\": \"white\", \"linecolor\": \"white\", \"ticks\": \"\"}, \"bgcolor\": \"#E5ECF6\", \"radialaxis\": {\"gridcolor\": \"white\", \"linecolor\": \"white\", \"ticks\": \"\"}}, \"scene\": {\"xaxis\": {\"backgroundcolor\": \"#E5ECF6\", \"gridcolor\": \"white\", \"gridwidth\": 2, \"linecolor\": \"white\", \"showbackground\": true, \"ticks\": \"\", \"zerolinecolor\": \"white\"}, \"yaxis\": {\"backgroundcolor\": \"#E5ECF6\", \"gridcolor\": \"white\", \"gridwidth\": 2, \"linecolor\": \"white\", \"showbackground\": true, \"ticks\": \"\", \"zerolinecolor\": \"white\"}, \"zaxis\": {\"backgroundcolor\": \"#E5ECF6\", \"gridcolor\": \"white\", \"gridwidth\": 2, \"linecolor\": \"white\", \"showbackground\": true, \"ticks\": \"\", \"zerolinecolor\": \"white\"}}, \"shapedefaults\": {\"line\": {\"color\": \"#2a3f5f\"}}, \"ternary\": {\"aaxis\": {\"gridcolor\": \"white\", \"linecolor\": \"white\", \"ticks\": \"\"}, \"baxis\": {\"gridcolor\": \"white\", \"linecolor\": \"white\", \"ticks\": \"\"}, \"bgcolor\": \"#E5ECF6\", \"caxis\": {\"gridcolor\": \"white\", \"linecolor\": \"white\", \"ticks\": \"\"}}, \"title\": {\"x\": 0.05}, \"xaxis\": {\"automargin\": true, \"gridcolor\": \"white\", \"linecolor\": \"white\", \"ticks\": \"\", \"title\": {\"standoff\": 15}, \"zerolinecolor\": \"white\", \"zerolinewidth\": 2}, \"yaxis\": {\"automargin\": true, \"gridcolor\": \"white\", \"linecolor\": \"white\", \"ticks\": \"\", \"title\": {\"standoff\": 15}, \"zerolinecolor\": \"white\", \"zerolinewidth\": 2}}}},                        {\"responsive\": true}                    ).then(function(){\n",
       "                            \n",
       "var gd = document.getElementById('9a6515a1-c777-459f-ad57-eb1f30c54c64');\n",
       "var x = new MutationObserver(function (mutations, observer) {{\n",
       "        var display = window.getComputedStyle(gd).display;\n",
       "        if (!display || display === 'none') {{\n",
       "            console.log([gd, 'removed!']);\n",
       "            Plotly.purge(gd);\n",
       "            observer.disconnect();\n",
       "        }}\n",
       "}});\n",
       "\n",
       "// Listen for the removal of the full notebook cells\n",
       "var notebookContainer = gd.closest('#notebook-container');\n",
       "if (notebookContainer) {{\n",
       "    x.observe(notebookContainer, {childList: true});\n",
       "}}\n",
       "\n",
       "// Listen for the clearing of the current output cell\n",
       "var outputEl = gd.closest('.output');\n",
       "if (outputEl) {{\n",
       "    x.observe(outputEl, {childList: true});\n",
       "}}\n",
       "\n",
       "                        })                };                });            </script>        </div>"
      ]
     },
     "metadata": {},
     "output_type": "display_data"
    }
   ],
   "source": [
    "# Will create interactive map with values in column=\"Created Beer\"\n",
    "import plotly.express as px\n",
    "\n",
    "\n",
    "# df = df[(df.Country != \"United States\") & (df.Country != \"Belgium\")]\n",
    "fig = px.choropleth(df, locations=\"Country ID\",\n",
    "                    color=\"Created Beer\", # lifeExp is a column of gapminder\n",
    "                    hover_name=\"Country\", # column to add to hover information\n",
    "                    color_continuous_scale=px.colors.sequential.Plasma)\n",
    "fig.show()"
   ]
  }
 ],
 "metadata": {
  "kernelspec": {
   "display_name": "PyCharm (Bachelor)",
   "language": "python",
   "name": "pycharm-d3bc82fa"
  },
  "language_info": {
   "codemirror_mode": {
    "name": "ipython",
    "version": 3
   },
   "file_extension": ".py",
   "mimetype": "text/x-python",
   "name": "python",
   "nbconvert_exporter": "python",
   "pygments_lexer": "ipython3",
   "version": "3.7.4"
  }
 },
 "nbformat": 4,
 "nbformat_minor": 4
}
